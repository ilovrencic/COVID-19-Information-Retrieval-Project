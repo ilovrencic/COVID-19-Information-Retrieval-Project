{
 "cells": [
  {
   "cell_type": "code",
   "execution_count": 33,
   "metadata": {},
   "outputs": [],
   "source": [
    "import glob\n",
    "import itertools as it\n",
    "import json\n",
    "\n",
    "import matplotlib.pyplot as plt\n",
    "import numpy as np\n",
    "import pandas as pd"
   ]
  },
  {
   "cell_type": "markdown",
   "metadata": {},
   "source": [
    "### Some experimenting with pandas"
   ]
  },
  {
   "cell_type": "code",
   "execution_count": 43,
   "metadata": {},
   "outputs": [],
   "source": [
    "metadata_path = 'C:/Users/Mario/Desktop/NLP/project/CORD-19-research-challenge/metadata.csv' \n",
    "\n",
    "meta_df = pd.read_csv(metadata_path)"
   ]
  },
  {
   "cell_type": "code",
   "execution_count": 44,
   "metadata": {},
   "outputs": [
    {
     "data": {
      "text/plain": [
       "(44220, 15)"
      ]
     },
     "execution_count": 44,
     "metadata": {},
     "output_type": "execute_result"
    }
   ],
   "source": [
    "meta_df.shape"
   ]
  },
  {
   "cell_type": "code",
   "execution_count": 45,
   "metadata": {},
   "outputs": [
    {
     "data": {
      "text/html": [
       "<div>\n",
       "<style scoped>\n",
       "    .dataframe tbody tr th:only-of-type {\n",
       "        vertical-align: middle;\n",
       "    }\n",
       "\n",
       "    .dataframe tbody tr th {\n",
       "        vertical-align: top;\n",
       "    }\n",
       "\n",
       "    .dataframe thead th {\n",
       "        text-align: right;\n",
       "    }\n",
       "</style>\n",
       "<table border=\"1\" class=\"dataframe\">\n",
       "  <thead>\n",
       "    <tr style=\"text-align: right;\">\n",
       "      <th></th>\n",
       "      <th>sha</th>\n",
       "      <th>source_x</th>\n",
       "      <th>title</th>\n",
       "      <th>doi</th>\n",
       "      <th>pmcid</th>\n",
       "      <th>pubmed_id</th>\n",
       "      <th>license</th>\n",
       "      <th>abstract</th>\n",
       "      <th>publish_time</th>\n",
       "      <th>authors</th>\n",
       "      <th>journal</th>\n",
       "      <th>Microsoft Academic Paper ID</th>\n",
       "      <th>WHO #Covidence</th>\n",
       "      <th>has_full_text</th>\n",
       "      <th>full_text_file</th>\n",
       "    </tr>\n",
       "  </thead>\n",
       "  <tbody>\n",
       "    <tr>\n",
       "      <th>0</th>\n",
       "      <td>NaN</td>\n",
       "      <td>Elsevier</td>\n",
       "      <td>Intrauterine virus infections and congenital h...</td>\n",
       "      <td>10.1016/0002-8703(72)90077-4</td>\n",
       "      <td>NaN</td>\n",
       "      <td>4361535.0</td>\n",
       "      <td>els-covid</td>\n",
       "      <td>Abstract The etiologic basis for the vast majo...</td>\n",
       "      <td>1972-12-31</td>\n",
       "      <td>Overall, James C.</td>\n",
       "      <td>American Heart Journal</td>\n",
       "      <td>NaN</td>\n",
       "      <td>NaN</td>\n",
       "      <td>False</td>\n",
       "      <td>custom_license</td>\n",
       "    </tr>\n",
       "    <tr>\n",
       "      <th>1</th>\n",
       "      <td>NaN</td>\n",
       "      <td>Elsevier</td>\n",
       "      <td>Coronaviruses in Balkan nephritis</td>\n",
       "      <td>10.1016/0002-8703(80)90355-5</td>\n",
       "      <td>NaN</td>\n",
       "      <td>6243850.0</td>\n",
       "      <td>els-covid</td>\n",
       "      <td>NaN</td>\n",
       "      <td>1980-03-31</td>\n",
       "      <td>Georgescu, Leonida; Diosi, Peter; Buţiu, Ioan;...</td>\n",
       "      <td>American Heart Journal</td>\n",
       "      <td>NaN</td>\n",
       "      <td>NaN</td>\n",
       "      <td>False</td>\n",
       "      <td>custom_license</td>\n",
       "    </tr>\n",
       "    <tr>\n",
       "      <th>2</th>\n",
       "      <td>NaN</td>\n",
       "      <td>Elsevier</td>\n",
       "      <td>Cigarette smoking and coronary heart disease: ...</td>\n",
       "      <td>10.1016/0002-8703(80)90356-7</td>\n",
       "      <td>NaN</td>\n",
       "      <td>7355701.0</td>\n",
       "      <td>els-covid</td>\n",
       "      <td>NaN</td>\n",
       "      <td>1980-03-31</td>\n",
       "      <td>Friedman, Gary D</td>\n",
       "      <td>American Heart Journal</td>\n",
       "      <td>NaN</td>\n",
       "      <td>NaN</td>\n",
       "      <td>False</td>\n",
       "      <td>custom_license</td>\n",
       "    </tr>\n",
       "    <tr>\n",
       "      <th>3</th>\n",
       "      <td>aecbc613ebdab36753235197ffb4f35734b5ca63</td>\n",
       "      <td>Elsevier</td>\n",
       "      <td>Clinical and immunologic studies in identical ...</td>\n",
       "      <td>10.1016/0002-9343(73)90176-9</td>\n",
       "      <td>NaN</td>\n",
       "      <td>4579077.0</td>\n",
       "      <td>els-covid</td>\n",
       "      <td>Abstract Middle-aged female identical twins, o...</td>\n",
       "      <td>1973-08-31</td>\n",
       "      <td>Brunner, Carolyn M.; Horwitz, David A.; Shann,...</td>\n",
       "      <td>The American Journal of Medicine</td>\n",
       "      <td>NaN</td>\n",
       "      <td>NaN</td>\n",
       "      <td>True</td>\n",
       "      <td>custom_license</td>\n",
       "    </tr>\n",
       "    <tr>\n",
       "      <th>4</th>\n",
       "      <td>NaN</td>\n",
       "      <td>Elsevier</td>\n",
       "      <td>Epidemiology of community-acquired respiratory...</td>\n",
       "      <td>10.1016/0002-9343(85)90361-4</td>\n",
       "      <td>NaN</td>\n",
       "      <td>4014285.0</td>\n",
       "      <td>els-covid</td>\n",
       "      <td>Abstract Upper respiratory tract infections ar...</td>\n",
       "      <td>1985-06-28</td>\n",
       "      <td>Garibaldi, Richard A.</td>\n",
       "      <td>The American Journal of Medicine</td>\n",
       "      <td>NaN</td>\n",
       "      <td>NaN</td>\n",
       "      <td>False</td>\n",
       "      <td>custom_license</td>\n",
       "    </tr>\n",
       "  </tbody>\n",
       "</table>\n",
       "</div>"
      ],
      "text/plain": [
       "                                        sha  source_x  \\\n",
       "0                                       NaN  Elsevier   \n",
       "1                                       NaN  Elsevier   \n",
       "2                                       NaN  Elsevier   \n",
       "3  aecbc613ebdab36753235197ffb4f35734b5ca63  Elsevier   \n",
       "4                                       NaN  Elsevier   \n",
       "\n",
       "                                               title  \\\n",
       "0  Intrauterine virus infections and congenital h...   \n",
       "1                  Coronaviruses in Balkan nephritis   \n",
       "2  Cigarette smoking and coronary heart disease: ...   \n",
       "3  Clinical and immunologic studies in identical ...   \n",
       "4  Epidemiology of community-acquired respiratory...   \n",
       "\n",
       "                            doi pmcid  pubmed_id    license  \\\n",
       "0  10.1016/0002-8703(72)90077-4   NaN  4361535.0  els-covid   \n",
       "1  10.1016/0002-8703(80)90355-5   NaN  6243850.0  els-covid   \n",
       "2  10.1016/0002-8703(80)90356-7   NaN  7355701.0  els-covid   \n",
       "3  10.1016/0002-9343(73)90176-9   NaN  4579077.0  els-covid   \n",
       "4  10.1016/0002-9343(85)90361-4   NaN  4014285.0  els-covid   \n",
       "\n",
       "                                            abstract publish_time  \\\n",
       "0  Abstract The etiologic basis for the vast majo...   1972-12-31   \n",
       "1                                                NaN   1980-03-31   \n",
       "2                                                NaN   1980-03-31   \n",
       "3  Abstract Middle-aged female identical twins, o...   1973-08-31   \n",
       "4  Abstract Upper respiratory tract infections ar...   1985-06-28   \n",
       "\n",
       "                                             authors  \\\n",
       "0                                  Overall, James C.   \n",
       "1  Georgescu, Leonida; Diosi, Peter; Buţiu, Ioan;...   \n",
       "2                                   Friedman, Gary D   \n",
       "3  Brunner, Carolyn M.; Horwitz, David A.; Shann,...   \n",
       "4                              Garibaldi, Richard A.   \n",
       "\n",
       "                            journal  Microsoft Academic Paper ID  \\\n",
       "0            American Heart Journal                          NaN   \n",
       "1            American Heart Journal                          NaN   \n",
       "2            American Heart Journal                          NaN   \n",
       "3  The American Journal of Medicine                          NaN   \n",
       "4  The American Journal of Medicine                          NaN   \n",
       "\n",
       "  WHO #Covidence  has_full_text  full_text_file  \n",
       "0            NaN          False  custom_license  \n",
       "1            NaN          False  custom_license  \n",
       "2            NaN          False  custom_license  \n",
       "3            NaN           True  custom_license  \n",
       "4            NaN          False  custom_license  "
      ]
     },
     "execution_count": 45,
     "metadata": {},
     "output_type": "execute_result"
    }
   ],
   "source": [
    "meta_df.head()"
   ]
  },
  {
   "cell_type": "code",
   "execution_count": 37,
   "metadata": {},
   "outputs": [
    {
     "data": {
      "text/plain": [
       "(28462, 15)"
      ]
     },
     "execution_count": 37,
     "metadata": {},
     "output_type": "execute_result"
    }
   ],
   "source": [
    "meta_df.dropna(subset=['sha'], inplace=True)\n",
    "meta_df.shape"
   ]
  },
  {
   "cell_type": "code",
   "execution_count": 38,
   "metadata": {},
   "outputs": [
    {
     "data": {
      "text/plain": [
       "array(['custom_license', 'noncomm_use_subset', 'comm_use_subset',\n",
       "       'biorxiv_medrxiv'], dtype=object)"
      ]
     },
     "execution_count": 38,
     "metadata": {},
     "output_type": "execute_result"
    }
   ],
   "source": [
    "# meta_df[meta_df.duplicated(subset=['sha'])]\n",
    "meta_df.full_text_file.unique()"
   ]
  },
  {
   "cell_type": "markdown",
   "metadata": {},
   "source": [
    "### And now serious business :D"
   ]
  },
  {
   "cell_type": "code",
   "execution_count": 39,
   "metadata": {},
   "outputs": [],
   "source": [
    "class Document:\n",
    "    \n",
    "    def __init__(self, paper_id, abstract, body_text):\n",
    "        self.paper_id = paper_id\n",
    "        self.abstract = abstract\n",
    "        self.body_text = body_text\n",
    "    \n",
    "    @classmethod\n",
    "    def from_json(cls, path):\n",
    "        with open(path, 'r') as fd:\n",
    "            data = json.load(fd)\n",
    "        \n",
    "        paper_id = data['paper_id']\n",
    "        abstract = [record['text'] for record in data['abstract']]\n",
    "        abstract = '\\n'.join(abstract)\n",
    "        body_text = [record['text'] for record in data['body_text']]\n",
    "        body_text = '\\n'.join(body_text)\n",
    "        return cls(paper_id, abstract, body_text)\n",
    "    \n",
    "    def __repr__(self):\n",
    "        return f'{self.paper_id}: {self.abstract[:200]} ... {self.body_text[:200]} ...'\n",
    "        \n",
    "    def _repr_html_(self):\n",
    "        paper_html = f'<b>Paper ID:</b> {self.paper_id}'\n",
    "        abstract_html = ['<p>' + record + '</p>' for record in self.abstract.split('\\n')]\n",
    "        abstract_html = '<h3>' + 'Abstract' + '</h3>' + ''.join(abstract_html)\n",
    "        body_text_html = ['<p>' + record + '</p>' for record in self.body_text.split('\\n')]\n",
    "        body_text_html = '<h3>' + 'Body text' + '</h3>' + ''.join(body_text_html)  \n",
    "        return paper_html + abstract_html + body_text_html"
   ]
  },
  {
   "cell_type": "code",
   "execution_count": 40,
   "metadata": {},
   "outputs": [],
   "source": [
    "class CollectionLoader:\n",
    "    \n",
    "    def __init__(self, dirs, spec=''):\n",
    "        spec = self._parse_spec(spec, dirs)   \n",
    "\n",
    "        docfiles = []\n",
    "        for i, dirname in enumerate(dirs):\n",
    "            dirfiles = glob.glob(f'{dirname}/**/*.json', recursive=True)\n",
    "            limit = spec[i] or len(dirfiles)            \n",
    "            docfiles.extend(dirfiles[:limit])\n",
    "        \n",
    "        self.docfiles = docfiles\n",
    "            \n",
    "    @staticmethod\n",
    "    def _parse_spec(spec, dirs):\n",
    "        if not spec: return [None] * len(dirs)\n",
    "            \n",
    "        spec_to_int = [int(s) if s.isdigit() else None\n",
    "                       for s in spec.split(':')]\n",
    "        \n",
    "        if len(dirs) != len(spec_to_int):\n",
    "            raise ValueError('length of dirs does not match length of spec')\n",
    "        \n",
    "        return spec_to_int\n",
    "        \n",
    "    def __iter__(self):\n",
    "        for fname in self.docfiles:\n",
    "            yield Document.from_json(fname)"
   ]
  },
  {
   "cell_type": "markdown",
   "metadata": {},
   "source": [
    "#### Basic usage \n",
    "\n"
   ]
  },
  {
   "cell_type": "code",
   "execution_count": 41,
   "metadata": {},
   "outputs": [
    {
     "name": "stdout",
     "output_type": "stream",
     "text": [
      "00d16927588fb04d4be0e6b269fc02f0d3c2aa7b: Infectious bronchitis (IB) causes significant economic losses in the global poultry industry. Control of infectious bronchitis is hindered by the genetic diversity of the causative agent, infectious b ... Infectious bronchitis (IB), which is caused by infectious bronchitis virus (IBV), is one of the most important diseases of poultry, causing severe economic losses worldwide. 8 Clinical signs of diseas ...\n",
      "number of documents: 6\n"
     ]
    }
   ],
   "source": [
    "# list of directories, each containing json files\n",
    "# note: if topmost directory does not contain json files, \n",
    "# recursive search is performed\n",
    "\n",
    "# dirs = ('./CORD-19-research-challenge/custom_license', \n",
    "#         './CORD-19-research-challenge/noncomm_use_subset', \n",
    "#         './CORD-19-research-challenge/comm_use_subset',\n",
    "#         './CORD-19-research-challenge/biorxiv_medrxiv')\n",
    "\n",
    "dirs = ('./dataset/noncomm_use100', \n",
    "        './dataset/comm_use100',\n",
    "        './dataset/biorxiv_medrxiv100')\n",
    "\n",
    "# pass above list and spec string\n",
    "# each entry, delimited by :, in spec string represents the number of json files \n",
    "# that will be read from corresponding directory\n",
    "collection_loader = CollectionLoader(dirs, spec='2:1:3')\n",
    "collection = list(collection_loader)\n",
    "\n",
    "# sanity check\n",
    "print(collection[3])\n",
    "print('number of documents:', len(collection))"
   ]
  },
  {
   "cell_type": "code",
   "execution_count": 42,
   "metadata": {},
   "outputs": [
    {
     "data": {
      "text/html": [
       "<b>Paper ID:</b> 00d16927588fb04d4be0e6b269fc02f0d3c2aa7b<h3>Abstract</h3><p>Infectious bronchitis (IB) causes significant economic losses in the global poultry industry. Control of infectious bronchitis is hindered by the genetic diversity of the causative agent, infectious bronchitis virus (IBV), which has led to the emergence of several serotypes that lack complete serologic cross-protection. While serotyping by definition requires immunologic characterization, genotyping is an efficient means to identify IBVs detected in samples. Sanger sequencing of the S1 subunit of the spike gene is currently used to genotype IBV; however, the universal S1 PCR was created to work from cultured IBV and it is inefficient at detecting mixed isolates. This paper describes a MinION-based AmpSeq method that genetically typed IBV from clinical samples, including samples with multiple isolates. Total RNA was extracted from fifteen tracheal scrapings and choanal cleft swab samples, randomly reverse transcribed, and PCR amplified using modified S1-targeted primers. Amplicons were barcoded to allow for pooling of samples, processed per manufacturer's instructions into a 1D MinION sequencing library, and sequenced on the MinION. The AmpSeq method detected IBV in 13 of 14 IBV-positive samples.</p><p>AmpSeq accurately detected and genotyped both IBV lineages in three of five samples containing two IBV lineages. Additionally, one sample contained three IBV lineages, and AmpSeq accurately detected two of the three. Strain identification, including detection of different strains from the same lineage, was also possible with this AmpSeq method. The results demonstrate the feasibility of using MinION-based AmpSeq for rapid and accurate identification and lineage typing of IBV from oral swab samples.</p><p>Infectious bronchitis virus is an enveloped, pleomorphic gammacoronavirus with an unsegmented, single-stranded, positive-sense, 26-27.8 Kb, RNA genome that encodes the nonstructural polyprotein,1a and 1b, and several structural proteins: spike (S), envelop (E), membrane (M) and nucleocapsid (N). 38,41 In addition, two accessory genes, expressing 3a, 3b and 5a and 5b, respectively, have also been described. 6, 14, 38 The S protein is highly glycosylated and post-translational cleavage leads to two subunits: S1 and S2. 10,48 Besides acting as the viral attachment protein, the S1 protein is a major target of neutralizing antibodies. 7 As with many attachment proteins that are targets of virus-neutralizing antibodies, the S1 subunit is highly diverse with almost 50% of the amino acids differing among IBV serotypes. 2,21,38 Such variation leads to important biological differences between IBV serotypes and the emergence of novel variants. More than 60 serotypes of IBV have been reported, but the most common serotypes of All rights reserved. No reuse allowed without permission.</p><p>Massachusetts. 16 This genetic diversity leads to emergence of new serotypes and a lack of complete cross-serotype protection by vaccines. 29 The correlation of IBV genotypes and serotypes of IBV has been reported 45 ; therefore, accurate genotypic identification of IBV is an important step to diagnose IBV in clinical respiratory cases, ensure selection of proper IBV vaccines for use in vaccination programs, and to better understand the epidemiology of this global virus.</p><p>One of the recent comprehensive classification schemes for IBV uses S1 gene sequencebased phylogeny of IBV and identified six genotypes (I-VI), 32 sub-genotypic lineages, and a number of inter-lineage recombinants in global strains of IBV. 44 Among the six genotypes, genotype I (G-I) is the most diverse group of viruses, with 27 unique lineages. 44 As such, sequencing of the S1 subunit provides important information regarding the classification of IBV within samples.</p><p>The genetic classification of IBV has relied on genotype-specific RT-qPCR assays, serotype-specific S1 RT-qPCR 32,40 and/or pan-IBV S1 RT-PCR assays coupled with Sanger sequencing. 8,31,49 Genotype-specific RT-qPCRs are limited to short fragments, which may miss important changes in the S1 (~1.6 kb) 44 outside the short target. Additionally, since the target is short, the primers lie within the variable regions of the S1 and may require a different assay for each genotype. Lastly, the pan-IBV S1 primers 1, 17, 22, 23, 25, 33 , while only requiring one reaction, have relatively low sensitivity and are typically used only on egg-cultured virus, which adds an additional, time consuming step and many diagnostic labs do not have SPF embryos readily available. Lastly, cloning of PCR products has been used to detect multiple IBV sub-populations in the sample 30 ; however, this is inefficient when potentially dealing with multiple (three or four) All rights reserved. No reuse allowed without permission.</p><p>The copyright holder for this preprint (which was not peer-reviewed) is the author/funder. . https://doi.org/10.1101/634600 doi: bioRxiv preprint IBV types. As such, the development of a pan-IBV sequencing method to rapidly determine the genotype(s) in samples would aid in lineage typing and tracking of IBV genotypes circulating in poultry flocks.</p><p>Recently, third generation sequencing technology has been used for detection of viral nucleotides and sequencing ultra-long DNA molecules. 34 The MinION Nanopore sequencer, a new DNA sequencing technology that allows for rapid, in-house, real-time technique detection and differentiation of IBV lineages, may be cost effective and useful in the field. 19 Ampliconbased sequencing has also been used to amplify specific regions of Newcastle disease 3,13 , infectious laryngotracheitis virus 39 Zika 34 , Ebola 35 and avian influenza viruses 46 , by simple RT-PCR and then sequencing on the MinION device. Real-time data analysis, the lack of significant start-up cost investment or maintenance expenses, simultaneous and sequential multiplexing unique to MinION, and the ability to sequence long DNA molecules so that primers are in conserved regions while the product contains the variable region are the features that make this technology highly feasible to be used for disease diagnostics.</p><p>Accurate identification of IBV genotypes from samples, including detection of multiple isolates from a single sample, is crucial to respiratory disease diagnosis, selection of appropriate IBV vaccines, and epidemiologic studies. Therefore, the aim of the current study is to create a single, amplicon-based protocol to sequence IBV-S1 gene and develop a sequence analysis workflow to identify IBV isolates from clinical swab samples. This method provides a useful assay for IBV and a model for the development of future amplicon sequencing (AmpSeq) based assays.</p><p>All rights reserved. No reuse allowed without permission.</p><p>A universal S1 primer set, 27 tailed with the MinION universal adapter sequence of 22 nucleotides (underlined, Table 2 ) to allow barcoding of amplicons, was used for targeted amplification of the IBV S1 gene for IBV. The PCR reaction mixture (Expand High Fidelity PCR system, Roche Diagnostics, Mannheim, Germany) was composed of 10 µl of cDNA, 1 µl of 10 µM forward primer, 1 µl of 10 µM reverse primer, 2.5 µl of 10× Expand high fidelity buffer, 1 µl of Expand High Fidelity Enzyme Mix, and 1 µl of 10mM dNTPs, to a final volume to 25 µl with 9 µl of nuclease-free water. The following thermocycling conditions were used for amplicon synthesis: denaturation at 95 °C for 2 min; 30 cycles of 94 °C for 1 min, 45 °C for 2 min, and 72 °C for 2 minutes, and final extension at 72 °C for 10 min. See Table 2 for details about all three primer sets used in this study. PCR products were electrophoresed in 1.5% agarose with SYBR Safe DNA gel stain (Invitrogen) for visual evaluation. Amplified DNA was purified by Agencourt AMPure XP beads (Beckman Coulter, USA) at 1.6:1 (volumetric bead:DNA) and quantified using the dsDNA High Sensitivity Assay Kit on a Qubit® Fluorimeter 3.0.</p><p>The amplicons obtained from the tailed S1 primer set were then used to prepare MinIONcompatible DNA libraries. Briefly, each of the amplicons were diluted to 0.5 nM and amplified using barcoding primers (1D PCR Barcoding Amplicon Kit, Oxford Nanopore Technologies, [ONT], UK) and LongAmp Taq 2X Master Mix (New England Biolabs, MA, USA) with the following conditions: 95 °C for 3 min; 15 cycles of 95 °C for 15 seconds, 62 °C for 15 seconds, 65 °C for 80 seconds; and 65 °C for 80 seconds. The barcoded amplicons were bead purified (1:1.4; bead:solution), pooled (Run1; pool of 10 samples, Run2; pool of 5 samples) into a single All rights reserved. No reuse allowed without permission.</p><p>Centrifuge 24 , Kraken 50 , QIIME 5 and Mothur 37 have been used to identify and profile microbial species; however, the high error rate 20 of Nanopore reads translates to poor classification accuracy for many of these tools. Alternatively, de novo 3,26 or reference-based 18 assembly methods have been used in MinION and other deep sequencing platforms. Using a strategy similar to other unbiased laboratory tests (e.g., standard bacterial cultures), an approach was developed to maximize usage of reads (i.e., reads are not discarded based on pre-set length or abundance requirements, similar to how a single colony may be interpreted as a significant result). This approach uses read-based classification against a database containing an equal number of representative sequences per lineage to detect and classify the reads based on their lineage, before conducting read-based classification to the isolate level by using all available IBV sequences in a separate database. Finally, lineage-clustered isolate-level read assignments are interpreted by a veterinary diagnostician to result in reads available for consensus building.</p><p>The use of a final consensus alignment helps to overcome the individual error rate of MinION sequencing. 3 Similarly, the absence of predetermined metrics used in de novo assembly allows for the informed decision as to how many consensus sequences to build, a bioinformatics problem when dealing with clinical cases that can contain more than one isolate (e.g., similar to how there is not a predetermined number of significant bacterial colonies). Confirmatory followup tests (e.g., RT-PCR) may be needed when dealing with low number of reads in clinical samples; however, future testing of this new technology will allow for creating standards for such confirmatory testing.</p><p>Taken together, these results suggest the application of MinION-based AmpSeq, specifically for detecting IBV isolates from clinical samples within a few days, compared to several days to weeks and multiple diagnostic assays to culture and detect multiple IBV All rights reserved. No reuse allowed without permission.</p><h3>Body text</h3><p>Infectious bronchitis (IB), which is caused by infectious bronchitis virus (IBV), is one of the most important diseases of poultry, causing severe economic losses worldwide. 8 Clinical signs of disease are diverse and include respiratory distress, severe ocular discharge, poor body weight gain, decreased egg production, flushing (renal disease), and occasionally mortality in chickens. 7 IB is often complicated by secondary bacterial (e.g., E. coli, Mycoplasma sp.) and viral infections (e.g., avian influenza virus, Newcastle disease virus, and infectious laryngotracheitis virus). 43 Lack of cross protection among IBV serotypes is a challenge to controlling IB 15 ; therefore, control of IB relies heavily on serotype-specific live attenuated vaccines. 8 Collectively, the presence of multiple IBVs in a single sample, emergence of variant IBVs, and the high genetic diversity of IBV can complicate the diagnosis of IB and illustrate the need for enhanced diagnostics. 15 </p><p>Clinical swab samples (n = 15) were obtained from samples submitted to the Poultry Diagnostic & Research Center, University of Georgia. Detailed information about the samples is provided in Table 1 .</p><p>Total RNA was extracted from each of the swab samples using QIAamp Viral RNA Mini kit (Qiagen, Hilden, Germany) as per manufacturer's instructions, aliquoted, and stored at −80 ºC until further use. These samples were previously tested for IBV and GA08 serotype of IBV.</p><p>Briefly, a pan IBV RT-qPCR assay 4 was used to detect IBV in general and then IBV strain specific RT-qPCR assay 36 was used to detect GA08 in the samples using the AgPath ID, One step RT-PCR kit (Thermo Fisher Scientific, Waltham, MA, USA) on the Applied Biosystems 7500 FAST following the previously described protocols.</p><p>For MinION cDNA synthesis, RNA was extracted from 500 µl of each clinical sample using Trizol-LS (Thermo Fisher Scientific, Waltham, MA, USA), per manufacturer's directions.</p><p>A reaction mixture of 8 µl of total RNA, 1 µl of random primers and 1 µl of dNTPs was incubated at 65 °C for 5 min, chilled on ice for at least 1 min followed by addition of 10 µl of cDNA synthesis mix including SuperScript III (Thermo Fisher Scientific, Waltham, MA, USA) according to the manufacture's instruction. The reaction was incubated at 25 °C for 10 min, then at 50 °C for 50 min for cDNA synthesis. The reaction was terminated at 85 °C for 5 min, and then chilled on ice. To remove residual RNA, the cDNA solution was incubated with RNase H at 37 °C for 20 min. All rights reserved. No reuse allowed without permission.</p><p>The copyright holder for this preprint (which was not peer-reviewed) is the author/funder. sequencing protocol was initiated using the MinKNOW software v.5.12. Sequencing was allowed to continue for 2 hours until 42,940 reads were obtained for Run1 and 156,000 reads were obtained for Run 2 in 6 hours.</p><p>First, a lineage-typing database, containing 32 IBV S1 gene sequences (one sequence from each of 32 lineages in the 6 genotypes 44 ) and the chicken genome (GCF_000002315.4_Gallus_gallus-5.0), was constructed (referred to as \"IBV-lineage-typing database\" in this study). A second database was constructed with all the Avian Coronaviruses S1 sequences (n = 7328) available in NCBI (as of: 09-08-2017) and the chicken genome (referred to as \"All-IBV database\" in this study). Prior to database construction, all sequences were dustmasked (NCBI C++ ToolKit), and each isolate was assigned a unique taxonomy ID as a species hierarchically under the genus Gammacoronavirus to allow easy sorting. The local BLAST databases were compiled using default settings. The IBV-lineage-typing database was All rights reserved. No reuse allowed without permission.</p><p>The copyright holder for this preprint (which was not peer-reviewed) is the author/funder. . https://doi.org/10.1101/634600 doi: bioRxiv preprint used to assign IBV lineages to each read, as appropriate. The All-IBV database was used to assign IBV isolates taxonomic ID to each of IBV reads from within IBV lineage read clusters.</p><p>The IBV-lineage-typing database, which contains only one sequence per lineage, is required as centrifuge divides the score for any given read by the number of hits that have an equal score.</p><p>Since some lineages are overrepresented in GenBank (e.g., Mass strains), this results in the scores of those reads (e.g., Mass reads) being divided by a large number, effectively reducing the score for any single alignment. However, because there is only one read per lineage in the IBVlineage-typing database, it has insufficient diversity to determine if there is more than one strain of the same lineage present in a sample. Thus, the All-IBV database provides the diversity required for that analysis.</p><p>A schematic diagram of the workflow of MinION data analysis is presented in Fig. 1 . For Nanopore sequencing data, pre-processing steps were performed to prepare data for downstream analysis. Briefly, Nanopore reads (FAST5) were basecalled using Albacore v 2.02 (https://github.com/Albacore/albacore) with following parameters (read_fast5_basecaller.py -i /Input_reads.fast5 --recursive -t 4 -s /Output_files --flowcell FLO-MIN107 --kit SQK-LSK108o fastq). Porechop (https://github.com/rrwick/Porechop) was used for adapter trimming, (default setting), barcode-based demultiplexing (default settings), and to trim an additional 21 nucleotides, representing the S1 primer sequences (porechop -i Input_file.fastq --extra_end_trim 21 -b ./output_demultiplexed files.fastq). After barcode and adapter removal, reads were analyzed with a script-based, 2-step data analysis protocol, which includes Centrifuge-kreport as taxonomic read classifier 24 using the sequences in the above mentioned BLAST databases.</p><p>Briefly, basecalled reads (FASTQ) from individual barcoded samples were used as an input. All rights reserved. No reuse allowed without permission.</p><p>The copyright holder for this preprint (which was not peer-reviewed) is the author/funder. . https://doi.org/10.1101/634600 doi: bioRxiv preprint First, the basecalled reads were aligned to the IBV-lineage-typing database using BLASTn and reads were clustered based on the read sequence alignment to the respective prototype sequence of IBV lineage. These read clusters were used to interpret presence of IBV genotypes and lineages in the samples. For isolate level identification of IBV, the lineage-based read clusters were individually aligned to the All-IBV database, which produced sub-clusters of reads. Each of these read sub-clusters potentially represents a different isolate and was further used for interpretation. Knowing that MinION sequencing has a high sequencing error rate in individual reads, further steps were added in the data analysis algorithm to obtain a more accurate consensus sequence. Therefore, these read sub-clusters were mapped, using Geneious mapper in Geneious software v11.1.3. (Biomatters, Ltd, Auckland, New Zealand), to the IBV-lineagetyping database (a reference FASTA file) to obtain consensus sequences from each sub-cluster.</p><p>A minimum threshold for number of reads per consensus sequence was not set as in two samples (sample #4 in Run1 and sample #12 in Run 2), only 1 and 5 IBV reads were obtained, respectively; therefore, consensus sequences were built from all the available IBV reads per subcluster. The consensus sequences were compared to GenBank using BLASTn. To select the \"top hit\" from BLASTn output, sequence search results were ordered by \"sequence identity\" and then sequence alignments were evaluated for \"minimum mismatches\" and \"coverage\" of query or subject sequence. All isolates with the highest query or subject coverage and the fewest mismatches were used as \"top hit\" in the final results.</p><p>For Sanger sequencing amplicons synthesis, cDNA from MinION library preparation was amplified using the following primer sets (Table 2) . Firstly, a primer set based on Connecticut sequence NCBI FJ904716.1 was used to amplify Genotype I-lineage 1 viruses (e.g., Connecticut All rights reserved. No reuse allowed without permission.</p><p>The copyright holder for this preprint (which was not peer-reviewed) is the author/funder. . https://doi.org/10.1101/634600 doi: bioRxiv preprint and Massachusetts serotypes). Secondly, a primer set based on GA98 sequence NCBI AF274439.1 was used to amplify Genotype IV-lineage 1 viruses (e.g., Georgia 1998 and Delaware 072 serotypes). Primer sets were designed using NCBI Primer-BLAST. 51 The PCR reaction mixture is composed of 10 µl of cDNA, 0.5 µl of 10 µM forward primer, 0.5 µl of 10 µM reverse primer, 2.5 µl of 10× buffer, 0.5 µl of enzyme mix, and 0.5 µl of 10mM dNTPs, then made the final volume to 25 µl with nuclease-free water. The following thermocycling conditions were used for amplicon synthesis: denaturation at 95 °C for 1 min, followed by </p><p>For Sanger sequencing data, the chromatogram from each of the samples was manually checked and primer sequences were trimmed in MEGA 6.0. 42 Forward and reverse sequences from multiple clones were aligned using MEGA 6.0 software and consensus sequences were All rights reserved. No reuse allowed without permission.</p><p>The copyright holder for this preprint (which was not peer-reviewed) is the author/funder. . https://doi.org/10.1101/634600 doi: bioRxiv preprint compared to GenBank using Basic Local Alignment Tool (BLAST) (https://blast.ncbi.nlm.nih.gov/) (as of: 12-03-2018) and the top hit from BLASTn output was selected, as described above for MinION sequencing data, to identify the IBV isolate in samples.</p><p>A pairwise nucleotide identity comparison on the partial S1 sequences of IBVs from each of the samples sequenced with Sanger sequencing and MinION sequencing was performed.</p><p>Briefly, the final AmpSeq consensus sequences from identical IBV types in each of the sample were aligned using ClustalW in MEGA6 42 and this alignment was used for pairwise nucleotide identity using MEGA6. 42 All rights reserved. No reuse allowed without permission.</p><p>The copyright holder for this preprint (which was not peer-reviewed) is the author/funder. . https://doi.org/10.1101/634600 doi: bioRxiv preprint</p><p>Five samples from Run 1 were tested with a pan-IBV RT-qPCR assay 4 , and four of those were positive for IBV. Samples with pathogenic IBV strains (Run 2, n = 5) were tested with the pan-IBV RT-qPCR and all five samples were IBV positive (Table 1) . Next, a GA08 serotype specific primer set (in house validated set of primers used for diagnostics) was used on all samples from Run 1 (including five samples that were previously tested by the pan-IBV PCR) and four of 10 samples were positive. Sample #3 and #4, which were positive with the pan-IBV RT-qPCR assay, were negative with GA08 specific RT-qPCR assay indicating that these samples contained IBV serotypes other than GA08 and required further testing. Sample #5 tested negative with both assays (Table 1) .</p><p>A total of 10 clinical swab samples (Run 1) were processed for Sanger sequencing to confirm the presence of IBV lineages. Based on the MinION results, primers targeting GIV-L1 and GI-L1 (GA98 and Conn and primer sets, respectively) were created. The PCR products were cloned and multiple (6-24) clones from each sample were submitted for Sanger sequencing and results are summarized in Table 3 . Using GIV-L1 serotype primers showed that 9 out of 10 samples were positive with 1 sample (#5) negative for IBV (which is consistent with the pan-IBV RT-qPCR results for this sample). Consensus sequences from multiple clones obtained by using GIV-L1 primers showed the presence of GA98 (GA/A9dvaccinated) in 7 of 9 IBV-positive samples. DE072 was detected in samples #1 and #9 as the lone GIV-1 isolate but was also detected in three samples (#2, and #10) that also contained GA98 (Table 4 ). By using the GI-L1 primer set, which amplified Conn and Mass type IBVs, 3 of 9 IBV-positive samples were All rights reserved. No reuse allowed without permission.</p><p>The copyright holder for this preprint (which was not peer-reviewed) is the author/funder. (Table 4 ). Based on the two conventional RT-PCRs and the GA08 RT-qPCR, it was determined that only samples #8 and #9 contained a single IBV isolate, while the other 7 samples were positive for 2-4 types of IBV (Table 3) .</p><p>PCR amplicons obtained directly from 10 clinical swab samples with vaccine IBV serotypes were barcoded, pooled together and sequenced on MinION device (Run 1). A total of 38,661 reads were successfully basecalled from the entire sequencing run (total reads = 42,940).</p><p>After demultiplexing, reads per barcode ranged from 831 to 4114. A total of 14,845 reads were not assigned to any of the used barcodes and 128 reads were discarded due to middle adapters.</p><p>The Nanopore reads were queried against IBV-lineage-typing database to determine if the samples contained IBV (Figure 1 ). This AmpSeq protocol detected IBV reads in 8 of 10 samples.</p><p>The number of IBV reads per sample (IBV positive sample) ranged from 56-944. The MinIONnegative samples included sample #5, which was consistently negative with RT-qPCR and RT-PCR assays (and thus interpreted as IBV negative), and sample #1, which had the highest Cq values in the pan-IBV RT-qPCR (Table 1) .</p><p>Sequencing data was further analyzed to determine if multiple IBV genotypes or lineages could be detected. Lineage-1 and lineage-27 from Genotype I (GI-L1, GI-L27), and lineage-1 from Genotype IV (GIV-L1) were the detected lineages in the samples. Results from individual RT-qPCR assay for GA08 (GI-L27), and RT-PCR assays for GIV-L1and GI-L1 confirmed the presence of multiple IBV genotypes and lineages in 6 of the 9 IBV-positive samples (#1, #2, #3, #4, #6, #7) and AmpSeq results confirmed multiple genotypes and lineages in 4 (#2, #4, #6, #7) of those 6 samples (AmpSeq failed to detect any IBV in #1, and failed to detect GIV-L1 in #3). All rights reserved. No reuse allowed without permission.</p><p>The copyright holder for this preprint (which was not peer-reviewed) is the author/funder. . https://doi.org/10.1101/634600 doi: bioRxiv preprint</p><p>The presence of a single lineage was confirmed by PCR-based assays and AmpSeq in three samples (#8, # 9 and #10) ( Table 3) .</p><p>It was observed that the single read cluster composed of less than 5 reads (Run1, sample #4, GA98) yielded a poor-quality consensus sequence, consistent with the known individual read error rate of MinION sequencing. High-quality consensus sequences were obtained from the other read clusters (>5 reads per cluster). Each of the obtained consensus sequences were compared to GenBank databases using BLAST, which revealed >99% sequence identity to respective IBV isolates Table 4 ). As described in the Sanger Sequencing section, two samples (#8 and #9) contained only one IBV isolate per the non-MinION assays, and the AmpSeq results were consistent with these findings. Non-MinION assays showed that seven samples contained two or more isolates per sample. Six samples (#1, #3, #4, #6, #7, and #10) contained two isolates per sample (Table 4 ). Of those six samples, AmpSeq detected both isolates in four samples (#4, #6, #7, and #10), one isolate in one sample (#3), and no IBV in one sample (#1; as mentioned above, sample #1 was the sample with the highest Cq value). Of note, sample #10 contained two isolates from the same lineage and AmpSeq was able to identify both isolates within this sample.</p><p>Finally, the seventh multi-isolate sample (#2) contained four isolates per the non-MinION results, and the AmpSeq detected two of those four isolates. These data show that a co-infection of multiple IBV lineages existed in the above-mentioned samples but a single RT-qPCR, or Sanger sequencing of a single clone may not have detected these co-infecting IBV lineages and required multiple assays to detect all the IBV types. However, the AmpSeq protocol accurately detected multiple IBV lineages in 4 of 7 samples, with partial detection in two of the remaining three samples (Table 4 ). In samples which had the same IBV type, Blast search of consensus All rights reserved. No reuse allowed without permission.</p><p>The copyright holder for this preprint (which was not peer-reviewed) is the author/funder. . https://doi.org/10.1101/634600 doi: bioRxiv preprint sequences obtained from AmpSeq and Sanger sequencing identified the same (or highly related isolate for sample #6 [GA98] and sample #9) in the NCBI nt database as per parameters described in the methods section.</p><p>To evaluate the utility of this protocol on clinical swab samples with pathogenic IBV variants, IBV-S1 gene was amplified directly from five clinical tracheal scrapings and the PCR amplicons were used to create MinION libraries. A total of 146,540 reads were successfully basecalled from the entire sequencing run (total reads = 156,000). After demultiplexing, reads per barcode ranged from 4,285 to 41,131. A total of 24,297 reads were not assigned to any of the used barcodes and 8,109 reads were discarded due to middle adapters in the basecalled reads.</p><p>Real-time analysis of MinION data, which was obtained within 10 minutes of the sequencing, was sufficient for detection of IBV. However, the sequencing data obtained from entire sequencing run was processed with the same protocol as described above. This AmpSeq protocol detected IBV reads in all of the 5 tested samples using all basecalled reads. The number of IBV reads per sample ranged from 5-4,956. Additionally, the sequencing data analysis showed that the IBV reads belonged to GI-17 lineage and typed the isolate as DMV1639. After MinION sequencing results, these samples were later tested to confirm the presence of IBV variant by MDL_DMV1639 IBV variant specific RT-qPCR assay. All 5 samples were positive for IBV MDL_DMV1639 variant of IBV (Table 5) .</p><p>In all of the samples where a matching IBV genotype/lineage was identified by both AmpSeq and Sanger sequencing, the AmpSeq data showed high concordance with Sanger sequencing data, In one sample (#4), only a single MinION read of GA98 was detected by All rights reserved. No reuse allowed without permission.</p><p>The copyright holder for this preprint (which was not peer-reviewed) is the author/funder. . https://doi.org/10.1101/634600 doi: bioRxiv preprint sequencing, consistent with the reported single-read accuracy of MinION sequencing. All other samples showed 99-100% pairwise identity across the partial S1 fragment generated by Sanger Sequencing. (Table 4 ).</p><p>All rights reserved. No reuse allowed without permission.</p><p>The copyright holder for this preprint (which was not peer-reviewed) is the author/funder. . https://doi.org/10.1101/634600 doi: bioRxiv preprint</p><p>This study describes a sequencing approach for rapid and accurate identification of IBV genotypes/lineages utilizing the MinION Nanopore sequencer. Additionally, a sequence analysis workflow is described here. The workflow analysis is designed to deal with the multiple, highly similar sequences contained within GenBank that are due to numerous sequencing experiments of IBV (especially vaccine viruses). This protocol demonstrates the feasibility of real-time-based sequencing to provide isolate-level resolution of IBV directly from clinical swab samples, including samples that contain multiple isolates.</p><p>The proper diagnosis of IBV as the cause of clinical respiratory disease is contingent on virus typing and differentiating live vaccine viruses from field strains. 11 Previously, it was reported that IBV genotypes correlate well with the serotypes of IBV 45 ; therefore, accurate genotypic identification of IBV will be useful to diagnose vaccine and variant viruses in clinical samples. The rapid pan-IBV and serotype specific RT-qPCR assays 4,23,36 have been used for serotype identification; however, positive results from RT-qPCR is insufficient to determine the IBV genotype and obtain isolate-level resolution of IBV; thus, sequence analysis of IBV-S1 gene is required. Previously, use of partial S1 gene sequences (450 bp) to type IBV has been described. 29 However, increasing the length of sequenced S1 gene (~1620 bp) results in more data to be used for genotyping as more of the hypervariable region is covered. 17, 27, 45 For example, the AmpSeq protocol was able to differentiate two genetically very similar (99.5% at S1 gene of IBV genome) but serotypically different GIV-L1 isolates, DE072 and GA98, within a single sample. Thus, the detection of highly diverse IBV genotypes, via the S1 subunit, with a single and rapid sequencing protocol is desirable and the ability to detect multiple isolates in a single sample would improve IBV detection in clinical samples. All rights reserved. No reuse allowed without permission.</p><p>The copyright holder for this preprint (which was not peer-reviewed) is the author/funder. . https://doi.org/10.1101/634600 doi: bioRxiv preprint Currently, pan-IBV RT-qPCR is used to rapidly detect IBV from clinical samples for screening purposes, 4 but this requires additional serotype-specific RT-qPCRs to genotype positive samples, including samples containing more than one genotype. Additionally, if unidentified IBVs are in the sample, then current detection and characterization may also require egg culture followed by various PCRs. 8 The AmpSeq method described in this report detected IBV in 13 of 14 IBV-positive and detected all the mixed isolates in four of seven samples containing two or more isolates. While mixed isolates were not 100% identified (0/2 in #1, 2/4 in #2, and ½ in #3) in three samples with the AmpSeq method, detection of those mixed isolates required several non-AmpSeq assays. Although, there is room for improving this new AmpSeq method, it represents a promising, single-step assay that can be used without egg culture. Thus, it is another tool for the detection of IBV, especially in cases when multiple isolates may be present or when genotyping is especially important.</p><p>One area that is problematic for a test such as AmpSeq is to detect all the isolates that may be present. While AmpSeq did detect all isolates in 4 samples, in 3 cases not all of the isolates were detected. A potential explanation to partial detection of multiple IBV genotypes could be the relative abundance of IBV genotypes in these clinical samples. It could also be that amplification of these IBV genotypes by serotype-specific RT-qPCR assays is more efficient due to small targeted fragment size (e.g., 120 bp for PCR and ~1600 bp for AmpSeq) and better primer alignment to the target (e.g., degenerate bases are used in the S1 primers used for AmpSeq). One complicating factor of the current AmpSeq protocol is that the IBV target sequence 27 was not originally designed for high specificity, especially from clinical samples. As such, a high proportion of total reads were non-IBV reads (e.g., often mapping to the chicken genome, data not shown), consistent with the extra bands visible in the original report for these All rights reserved. No reuse allowed without permission.</p><p>The copyright holder for this preprint (which was not peer-reviewed) is the author/funder. . https://doi.org/10.1101/634600 doi: bioRxiv preprint target sequences. 28 Additionally, it is possible that certain genotypes are better complemented to the S1 primers than others and may outcompete those isolates for amplification in the AmpSeq protocol. Lastly, increasing the total number of reads collected by AmpSeq may improve the ability to detect all genotypes in sample by AmpSeq. It is possible to allow the sequencing to continue longer to obtain more reads per sample. Overall, AmpSeq is a feasible test for IBV characterization, and work is ongoing to improve this new type of assay.</p><p>For example, cost and time efficiency of a sequencing protocol can be improved through multiplexing of more samples in a single sequencing run. 3, 47 In this study, samples (Run 1 = 10, Run 2 = 5) were simultaneously multiplexed (i.e., pooled and then sequenced in one run) while maintaining IBV genotyping from data collected. Since the MinION flow cells were not exhausted, and can be washed and re-used, the AmpSeq method also has the potential for sequential multiplexing. This would decrease the need to hold samples for weeks while waiting for the cost-optimal number of samples for simultaneous multiplexing. Alternatively, if detection of all isolates within a given sample is preferred, the sequencing can be run longer to increase sensitivity. The single protocol nature of AmpSeq, the ability to obtain S1 gene sequence results, real-time data analysis, and flexibility of testing design makes MinION-based AmpSeq a viable sequencing protocol for typing of IBV isolates.</p><p>The advent of real-time, in-house, third generation sequencing represents a transformative opportunity for diagnostic laboratories, by offering the ability to more fully characterize PCR reactions beyond confirming amplicon size (e.g., routine electrophoresis), Sanger sequencing RT-PCR products, or by confirming a partial sequence through probe hybridization (e.g., probe-based qPCR). However, the interpretation of such large data sets represents a challenge to veterinary diagnosticians. Read-based classification software such as genotypes from single sample. Thus, the MinION-based AmpSeq coupled with the data analysis workflow for identification, differentiation, and accurate prediction of IBV genotypes from clinical swab samples can be used as an adjunct to other established rapid diagnostic assays 9,12 until extensive testing of this protocol is done to improve and validate AmpSeq for IBV diagnostics. Furthermore, AmpSeq-based assays can be, and are being applied to other viral pathogens, 3,37 demonstrating the power and utility of this method in the age of molecular diagnostics. The copyright holder for this preprint (which was not peer-reviewed) is the author/funder. . https://doi.org/10.1101/634600 doi: bioRxiv preprint </p>"
      ],
      "text/plain": [
       "00d16927588fb04d4be0e6b269fc02f0d3c2aa7b: Infectious bronchitis (IB) causes significant economic losses in the global poultry industry. Control of infectious bronchitis is hindered by the genetic diversity of the causative agent, infectious b ... Infectious bronchitis (IB), which is caused by infectious bronchitis virus (IBV), is one of the most important diseases of poultry, causing severe economic losses worldwide. 8 Clinical signs of diseas ..."
      ]
     },
     "execution_count": 42,
     "metadata": {},
     "output_type": "execute_result"
    }
   ],
   "source": [
    "# rich output (only available in Jupyter)\n",
    "collection[3]"
   ]
  },
  {
   "cell_type": "markdown",
   "metadata": {},
   "source": [
    "### TODO: Preprocessing pipeline"
   ]
  }
 ],
 "metadata": {
  "kernelspec": {
   "display_name": "Python 3",
   "language": "python",
   "name": "python3"
  },
  "language_info": {
   "codemirror_mode": {
    "name": "ipython",
    "version": 3
   },
   "file_extension": ".py",
   "mimetype": "text/x-python",
   "name": "python",
   "nbconvert_exporter": "python",
   "pygments_lexer": "ipython3",
   "version": "3.7.3"
  }
 },
 "nbformat": 4,
 "nbformat_minor": 2
}
