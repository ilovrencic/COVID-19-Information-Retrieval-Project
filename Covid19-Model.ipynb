{
 "cells": [
  {
   "cell_type": "markdown",
   "metadata": {},
   "source": [
    "## Parsing of the dataset CORD-19\n"
   ]
  },
  {
   "cell_type": "markdown",
   "metadata": {},
   "source": [
    "### Importing the parser and parsing the datasets"
   ]
  },
  {
   "cell_type": "code",
   "execution_count": 1,
   "metadata": {},
   "outputs": [],
   "source": [
    "from Parser import *"
   ]
  },
  {
   "cell_type": "code",
   "execution_count": 2,
   "metadata": {},
   "outputs": [],
   "source": [
    "#Creating a Parser and specifying what kind of dataset we want to parse\n",
    "parser = Parser([Dataset.BIORXIV])\n",
    "parser.parse(indexByFile = False);"
   ]
  },
  {
   "cell_type": "markdown",
   "metadata": {},
   "source": [
    "### Example of accesing the paper by index"
   ]
  },
  {
   "cell_type": "code",
   "execution_count": 44,
   "metadata": {},
   "outputs": [
    {
     "name": "stdout",
     "output_type": "stream",
     "text": [
      "\u001b[1mTitle\u001b[0m\n",
      "Deep Learning-based Detection for COVID-19 from Chest CT using Weak Label\n",
      "\n",
      "\u001b[1mAbstract\u001b[0m\n",
      "Accurate and rapid diagnosis of COVID-19 suspected cases plays a crucial role in timely quarantine and medical treatment. Developing a deep learning-based model for automatic COVID-19 detection on chest CT is helpful to counter the outbreak of SARS-CoV-2. A weakly-supervised deep learning-based software system was developed using 3D CT volumes to detect COVID-19. For each patient, the lung region was segmented using a pre-trained UNet; then the segmented 3D lung region was fed into a 3D deep neural network to predict the probability of COVID-19 infectious. 499 CT volumes collected from Dec. 13, 2019, to Jan. 23, 2020, were used for training and 131 CT volumes collected from Jan 24, 2020, to Feb 6, 2020, were used for testing. The deep learning algorithm obtained 0.959 ROC AUC and 0.976 PR AUC. There was an operating point with 0.907 sensitivity and 0.911 specificity in the ROC curve. When using a probability threshold of 0.5 to classify COVID-positive and COVID-negative, the algorithm obtained an accuracy of 0.901, a positive predictive value of 0.840 and a very high negative predictive value of 0.982. The algorithm took only 1.93 seconds to process a single patient's CT volume using a dedicated GPU. Our weaklysupervised deep learning model can accurately predict the COVID-19 infectious probability in chest CT volumes without the need for annotating the lesions for training. The easily-trained and highperformance deep learning algorithm provides a fast way to identify COVID-19 patients, which is beneficial to control the outbreak of SARS-CoV-2. The developed deep learning software is available at https://github.com/sydney0zq/covid-19-detection.\n",
      "\n",
      "\u001b[1mBody\u001b[0m\n",
      "huge amount of efforts for radiologists, which is not acceptable when COVID-19 is spreading fastly and there are great shortages for radiologists. Thus, performing COVID-19 detection in a weakly-supervised manner is of great importance. One of the simplest labels for COVID-19 detection is the patient-level, i.e., indicating the patient is COVID-19 positive or negative. Therefore, aim of current study was to investigate the potential of a deep learning-based model for automatic COVID-19 detection on chest CT volumes using the weak patient-level label, for the sake of rapid diagnosis of COVID-19 at this critical situation to help to counter this outbreak, especially within Wuhan, Hubei province, China.Patients This retrospective study was approved by Huazhong University of Science and Technology ethics committee, patient consent was waived due to the retrospective nature of this study.Between Dec. 13, 2019 to Feb. 6, 2020, we searched unenhanced chest CT scans of patients with suspected COVID-19 from the picture archiving and communication system (PACS) of radiology department (Union Hospital, Tongji Medical College, Huazhong University of Science and Technology). Finally, 540 patients (mean age, 42.5±16.1 years; range, 3-81 years, male 226, female 314) were enrolled into this study, including 313 patients (mean age, 50.7±14.7 years; range, 8-81 years; male 138, female 175) with clinical diagnosed COVID-19 (COVID-positive group) and 229 patients (mean age, 31.2±10.0 years; range, 3-69 years; male 88, female 141) without COVID-19 (COVID-negative group). There was no significant difference in sex between the two groups (χ 2 =1.744; P=0.187), age in COVIDpositive group significantly higher than that of COVID-negative group (t=17.09; P<0.001). The main clinical symptoms for these patients were fever, cough, fatigue, and diarrhea. Of all the patients, two were included by both groups due to the first and second follow-up CT scans. The first case (female, year 66) was diagnosed as COVID-19 negative on Jan 24, 2020, then changed into COVID-positive on Feb 6, 2020; the second case (female, year 23) was diagnosed as COVID-19 positive on Jan 24, 2020, then changed into COVID-negative on Feb 3, 2020. All the CT volumes scanned on and before Jan 23, 2020, were assigned for deep learning training, and all the CT volumes scanned after Jan 23, 2020, were assigned for deep learning testing.The CT scanning of all the enrolled patients was performed on a gemstone CT scanner (GE Discovery CT750HD; GE Healthcare, Milwaukee, WI), and were positioned in a headfirst supine position, with their bilateral arms raised and placed beside bilateral ears. All the patients underwent CT scans during the end-inspiration without the administration of contrast material. Related parameters for chest CT scanning were listed as follows: field of view (FOV), 36 cm; tube voltage, 100 kV; tube current, 350 mA; noise index, 13; helical mode; section thickness, 5 mm; slice interval, 5 mm; pitch, 1.375; collimation 64×0.625 mm; gantry rotation speed, 0.7 s; matrix, 512×512; the reconstruction slice thickness 1 mm with an interval of 0.8 mm; scan rage from apex to lung base; the mediastinal window: window width of 200 HU with a window level of 35 HU, and the lung window: window width of 1500 HU with a window level of -700 HU.Ground-truth Label In the latest diagnosis and treatment protocols of pneumonia caused by a novel coronavirus (trial version 5) [18] which was released by National Health Commission of the People's Republic of China on Feb 4, 2020, suspected cases with characteristic radiological manifestations of 3 . CC-BY-NC-ND 4.0 International license It is made available under a author/funder, who has granted medRxiv a license to display the preprint in perpetuity.is the (which was not peer-reviewed) The copyright holder for this preprint .COVID-19 has been regarded as current standard for clinical diagnostic cases in severely affected areas only in Hubei Province, indicating that chest CT is fundamental for COVID-19 identification of clinically diagnosed cases.Typical CT findings for COVID-19 are also listed: multifocal small patchy shadowing and interstitial abnormalities in the early stage, especially for the peripheral area of the bilateral lungs. In the progressive period, the lesions could increase in range and in number; it could develop into multiple ground glass opacity (GGO) with further infiltration into the bilateral lungs. In severe cases, pulmonary diffuse consolidation may occur and pleural effusion is rarely shown.The combination of epidemiologic features (travel or contact history), clinical signs and symptoms, chest CT, laboratory findings and real-time RT-PCR (if available) for SARS-CoV-2 nucleic acid testing is used for the final identification of COVID-19. The medical CT reports were acquired via the electronic medical record of Union Hospital, Tongji Medical College, Huazhong University of Science and Technology. According to the CT reports, if a CT scan was COVID-positive, its ground-truth label was 1; otherwise, the label was 0. Figure 1 : Architecture of the proposed DeCoVNet. The network took a CT volume with its 3D lung mask as input and directly output the probabilities of COVID-positive and COVID-negative.The Proposed DeCoVNet We proposed a 3D deep convolutional neural Network to Detect COVID-19 (DeCoVNet) from CT volumes. As shown in Fig. 1 , DeCoVNet took a CT volume and its 3D lung mask as input. The 3D lung mask was generated by a pre-trained UNet [19] . DeCoVNet was divided into three stages for a clear illustration in Table. 1. The first stage was the network stem, which consisted of a vanilla 3D convolution with a kernel size of 5 × 7 × 7, a batchnorm layer and a pooling layer. The second stage was composed of two 3D residual blocks (ResBlocks). In each ResBlock, a 3D feature map was passed into both a 3D convolution with a batchnorm layer and a shortcut connection containing a 3D convolution that was omitted in Fig. 1 for dimension alignment. The resulted feature maps were added in an element-wise manner. The third stage was a progressive classifier (ProClf), which mainly contained three 3D convolution layers and a fully-connected (FC) layer with the softmax activation function. ProClf progressively abstracts the information in the CT volumes by 3D max-pooling and finally directly output the probabilities of being COVID-positive and COVID-negative. The 3D lung mask of an input chest CT volume helped to reduce background information and better detect COVID-19. Detecting the 3D lung mask was a well-studied issue. In this study, we trained a simple 2D UNet using the CT images in our training set. To obtain the ground-truth lung masks, we 4 . CC-BY-NC-ND 4.0 International license It is made available under a author/funder, who has granted medRxiv a license to display the preprint in perpetuity.is the (which was not peer-reviewed) The copyright holder for this preprint . Table 1 : Detailed structure of the proposed DeCovNet. The number after the symbol \"@\", e.g., 5×7×7, denotes the kernel size of the convolution layer or the residual block. \"&\" means that there are two types of kernel size in the residual block. \"T\" denotes the length of the input CT volume. The number in \"Output size\" is in the order of \"channel, length, height, width\". The input size is 2 × T × 192 × 288. segmented the lung regions using an unsupervised learning method [20] , removed the failure cases manually, and the rest segmentation results were taken as ground-truth masks. The 3D lung mask of each CT volume was obtained by testing the trained 2D UNet frame-by-frame without using any temporal information. The overall training and testing procedures of UNet and DeCoVNet for COVID-19 detection were illustrated in Fig. 2 .Preprocessing of 2D UNet All the CT volumes were preprocessed in a unified manner before training the 2D UNet for lung segmentation. First, the unit of measurement was converted to the Hounsfield Unit (HU) and the value was linearly normalized from 16-bit to 8-bit (i.e., 0-255) after determining the threshold of a HU window (e.g., -1 200-600 HU). After that, all the CT volumes were resampled into a same spatial resolution (e.g., 368×368), by which the CT volumes could be aligned without the influence of the cylindrical scanning bounds of CT scanners. This step was applied to the obtained ground-truth lung masks as well.Preprocessing of DeCoVNet For each CT volume, the lung masks produced by the trained UNet formed a mask volume, then the CT volume was concatenated with the mask volume to obtain a CT-Mask volume. Finally, the CT-Mask volume was resampled into a fixed spatial resolution (e.g., 224×336) without changing the number of slices for DeCoVNet training and testing. The number of slices in the whole dataset was 141±16 ranging from 73 to 250.Data Augmentation To avoid the overfitting problem since the number of training CT volumes was limited, online data augmentation strategies were applied including random affine transformation and color jittering. The affine transformation was composed of rotation (0 • ±10 • ), horizontal and vertical 5 . CC-BY-NC-ND 4.0 International license It is made available under a author/funder, who has granted medRxiv a license to display the preprint in perpetuity.is the (which was not peer-reviewed) The copyright holder for this preprint translations (0%±10%), scaling (0%±20%) and shearing in the width dimension (0 • ±10 • ). The color jittering adjusted brightness (0%±50%) and contrast (0%±30%). For each training sample, the parameters were randomly generated and the augmentation was identically applied for each slice in the sampled CT volume.Training and Testing Procedures The DeCoVNet software was developed based on the PyTorch framework [21] . Our proposed DeCoVNet was trained in an end-to-end manner, which meant that the CT volumes were provided as input and only the final output was supervised without any manual intervention. The network was trained for 100 epochs using Adam optimizer [22] with a constant learning rate of 1e-5. Because the length of CT volume of each patient was not fixed, the batch size was set to 1. The binary cross-entropy loss function was used to calculate the loss between predictions and ground-truth labels.During the procedure of testing, data augmentation strategies were not applied. The trained DeCoV-Net took the preprocessed CT-Mask volume of each patient and output the COVID-positive probability as well as COVID-negative probability. Then the predicted probabilities of all patients and their corresponding ground-truth labels were collected for statistical analysis.The cohort for studying the COVID-19 detection contained 630 CT scans collected from Dec 13, 2019 to Feb 6, 2020. To simulate the process of applying the proposed DeCoVNet for clinical computeraided diagnosis (i.e., prospective clinical trials), we used the 499 CT scans collected from Dec 13, 2019 to Jan 23, 2020 for training and used the rest 131 CT volumes collected from Jan 24, 2020 to Feb. 06, 6 . CC-BY-NC-ND 4.0 International license It is made available under a author/funder, who has granted medRxiv a license to display the preprint in perpetuity.is the (which was not peer-reviewed) The copyright holder for this preprint . https://doi.org/10.1101/2020.03.12.20027185 doi: medRxiv preprint 2020 for testing. Of the training volumes, 15% were randomly selected for hyperparameter tuning during the training stage.Statistical Analysis COVID-19 detection results were reported and analyzed using receiver operating characteristic (ROC) and precision-recall (PR) curves. The area under the ROC curve (ROC AUC) and the area under the precision-recall curve (PR AUC) were calculated. Besides, multiple operating points were chosen on the ROC curve, e.g., the points with approximately 0.95 sensitivity (high sensitivity point) and with approximately 0.95 specificity (high specificity point). ROC AUC, PR AUC, and some key operating points were used to assess the deep learning algorithm.This was a retrospective case series study and no patients were involved in the study design, setting the research questions, or the outcome measures directly. No patients were asked to advise on interpretation or writing up of results. The software for COVID-19 detection with the pre-trained model as well as the results was available at https://github.com/sydney0zq/covid-19-detection, which will be made publicly available on the publication of this paper. Training DeCoVNet on the training set which consisted of 499 CT volumes took about 20 hours (11 hours for UNet and 9 hours for DeCoVNet) and testing a CT volume costed an average of 1.93 seconds (1.80 seconds for UNet and 0.13 seconds for DeCoVNet) on an NVIDIA Titan Xp GPU.. CC-BY-NC-ND 4.0 International license It is made available under a author/funder, who has granted medRxiv a license to display the preprint in perpetuity. For every testing CT scan, we used the trained DeCoVNet to predict its probability of COVID-19. By comparing with their binary ground-truth labels, we plotted ROC and PR curves as shown in Fig. 3 and Fig. 4 respectively. In the ROC, we obtained a ROC AUC value of 0.959. When true positive rate (TPR, i.e., sensitivity) was approximately 0.95, our model obtained a true negative rate (TNR, i.e., specificity) of 0.786; when TNR was approximately 0.95, our model obtained a TPR of 0.880; there was another operating showed that our algorithm obtained both TPR and FPR larger than 0.9, i.e., sensitivity=0.907 and specificity=0.911. On the PR curve, our model obtained a PR AUC of 0.975.When using the threshold of 0.5 to make COVID-19 detection prediction (i.e., if the probability of COVID-19 was larger than 0.5, the patient was classified as COVID-positive, and vice versa), the algorithm obtained an accuracy of 0.901 with a positive predictive value (PPV) of 0.840 and a negative predictive value (NPV) of 0.982. By varying the probability threshold, we obtained a series of COVID-19 detection accuracy, PPV and NPV in Table 2 . Our data showed that the COVID-19 prediction accuracy obtained by the DeCoVNet algorithm was higher than 0.9 when the threshold ranged from 0.2 to 0.5. At the threshold setting of 0.5, there were 12 false positive predictions in total and only one false positive prediction by the algorithm in our study, indicating that the algorithm to have a very high negative predictive value.The accurate predictions (a true positive and a true negative) were presented in Fig. 5 (A-B) , and erroneous predictions in Fig. 5 (C-F) . In images corresponding to the true positive and the false negative, the lesions of COVID-19 were annotated by red arrows. As shown in Fig. 5 (C, D, E) , the false negative predictions were made by the algorithm, and Fig. 5 (F) showed the only false positive prediction, in which the respiratory artifact had been mistaken as a COVID-19 lesion by the DeCoVNet algorithm.. CC-BY-NC-ND 4.0 International license It is made available under a author/funder, who has granted medRxiv a license to display the preprint in perpetuity.is the (which was not peer-reviewed) The copyright holder for this preprint . Figure 5 : Some accurate and erroneous predictions of the proposed DeCoVNet.. CC-BY-NC-ND 4.0 International license It is made available under a author/funder, who has granted medRxiv a license to display the preprint in perpetuity.is the (which was not peer-reviewed) The copyright holder for this preprint .To our knowledge, this is the first study to perform weakly-supervised computer-aided COVID-19 detection with a large number of CT volumes from the frontline hospital at the present epidemic period. By designing an effective weakly-supervised deep learning-based algorithm and training it on CT volumes collected before Jan 23, 2020 with only patient-level labels, the testing results on 131 CT scans collected from Jan 24, 2020, to Feb 6, 2020, were very impressive, e.g., the PR AUC value was 0.975. On the ROC curve, the algorithm obtained sensitivity and specificity values larger than 0.9, which were both clinically applicable.The motivation of this study was to utilize AI to alleviate the problem of shortage of professional interpretations for CT images when the epidemic is still fast spreading. Though there were many effective applications of medical AI in previous studies [13, 23] , developing AI for automatic COVID-19 detection was still a challenging task. Firstly, in the current emergency situation, the number of enrolled patients is relatively smaller compared with that used in previous studies [13, 23] ; and patients enrolled in our study were clinically diagnosed cases with COVID-19, because the majority of them did not undergo the nucleic acid testing due to the sudden outbreak and limited medical resource in such a short time period. Secondly, the lesions of COVID-19 in CT volumes were not labeled by radiologists and only patientlevel labels (i.e., COVID-positive or COVID-negative) were utilized for training the AI algorithm in our study. Thirdly, some small infected areas of COVID-19 have the potential to be missed even by professional radiologists, and whether it is feasible to be detected by deep learning-based 3D DCNN model remains unclear. We hypothesized to solve these problems by proposing a delicate 3D DCNN, i.e., DeCoVNet. It solved the first problem by applying extensive data augmentation on training CT volumes to obtain more training examples. The second problem was solved by regarding the COVID-19 detection problem as a weakly-supervised learning problem [24] , i.e., detecting COVID-19 without annotating the regions of COVID-19 lesions. In the designed DeCoVNet, we used the spatially global pooling layer and the temporally global pooling layer to technically handle the weakly-supervised COVID-19 detection problem. The third problem was addressed by taking the advantages of deep learning and utilizing a pre-trained UNet for providing the lung masks to guide the learning of DeCoVNet.The deep learning-based COVID-19 diagnostic algorithm used in our study is effective compared to recent deep learning-based computer-aided diagnosis methods. On the task of predicting the risk of lung cancer [13] , the deep learning model was trained on 42290 CT cases from 14851 patients and obtained 0.944 ROC AUC. On the task of critical findings from head CT [23] , the deep learning model was trained on 310055 head CT scans and obtained ROC AUC of 0.920. In our study, only 499 scans were used for training, but the obtained ROC AUC was 0.959. By comparing the data between them, it was able to find that the task of COVID-19 detection may be easier and the proposed deep learning algorithm was very powerful. As for the erroneous 12 false negative predictions in our results, the most possible explanations after we rechecked the original CT images were listed as follows: those lesions were slightly increased in CT densities, and images of those ground-glass opacities were very faint without consolidation.Our study provided a typical and successful solution for developing medical AI for emerging diseases, such as COVID-19. While we were developing this AI, doctors in Wuhan were still extremely busy with treating a huge number of COVID-19 patients and it may be impossible for them to annotate the lesions in CT volumes in the current austere fight against this epidemic. Thanks to the weaklysupervised algorithm in this study, locations of pulmonary lesions in CT volumes are not necessary to be annotated, and radiologists' annotating efforts can be minimized, i.e., only providing patient-level labels. Therefore, developing a helpful AI tool swiftly has become possible and available in the clinical application. In the future, the burden of AI experts could be lifted significantly by automatic machine learning (AutoML) [25] .Limitations of this study There are still several limitations in this study. First, network design and training may be further improved. For example, the UNet model for lung segmentation did not utilize temporal information and it was trained using imperfect ground-truth masks, which could be improved by using 3D segmentation networks and adopting precise ground-truth annotated by experts. Second, the data used in this study came from a single hospital and cross-center validations were not performed. Third, when diagnosing COVID-19, the algorithm worked in a black-box manner, since the algorithm was based on deep learning and its explainability was still at an early stage. Related work of all limitations mentioned above will be addressed in our further studies.In conclusion, without the need for annotating the COVID-19 lesions in CT volumes for training, our weakly-supervised deep learning algorithm obtained strong COVID-19 detection performance. Therefore, our algorithm has great potential to be applied in clinical application for accurate and rapid COVID-19 diagnosis, which is of great help for the frontline medical staff and is also vital to control this epidemic worldwide.\n",
      "\n",
      "\n"
     ]
    }
   ],
   "source": [
    "#We can access the date by index or by file name, but we have to change in the parse function\n",
    "#what kind of invoke we want\n",
    "print(parser.data_dicts[Dataset.BIORXIV][3])"
   ]
  },
  {
   "cell_type": "markdown",
   "metadata": {},
   "source": [
    "### Accesing certain elements of the paper"
   ]
  },
  {
   "cell_type": "code",
   "execution_count": 49,
   "metadata": {},
   "outputs": [
    {
     "name": "stdout",
     "output_type": "stream",
     "text": [
      "\u001b[1mTitle\u001b[0m\n",
      "p53 is not necessary for DUX4 pathology\n",
      "\n",
      "\n",
      "\u001b[1mTitle\u001b[0m\n",
      "Real-Time Estimation of the Risk of Death from Novel Coronavirus (COVID-19) Infection: Inference Using Exported Cases\n",
      "\n",
      "\n",
      "\u001b[1mTitle\u001b[0m\n",
      "Potentially highly potent drugs for 2019-nCoV\n",
      "\n",
      "\n",
      "\u001b[1mTitle\u001b[0m\n",
      "Deep Learning-based Detection for COVID-19 from Chest CT using Weak Label\n",
      "\n",
      "\n",
      "\u001b[1mTitle\u001b[0m\n",
      "The Viral Protein Corona Directs Viral Pathogenesis and Amyloid Aggregation\n",
      "\n",
      "\n",
      "\u001b[1mTitle\u001b[0m\n",
      "Significance of hydrophobic and charged sequence similarities in sodium-bile acid cotransporter and vitamin D-binding protein macrophage activating factor\n",
      "\n",
      "\n",
      "\u001b[1mTitle\u001b[0m\n",
      "Dark Proteome of Newly Emerged SARS-CoV-2 in Comparison with Human and Bat Coronaviruses\n",
      "\n",
      "\n",
      "\u001b[1mTitle\u001b[0m\n",
      "Title: Genome Detective Coronavirus Typing Tool for rapid identification and characterization of novel coronavirus genomes Short title: Automated tool for phylogenetic and mutational analysis of coronaviruses genomes\n",
      "\n",
      "\n",
      "\u001b[1mTitle\u001b[0m\n",
      "Effect of SARS-CoV-2 infection upon male gonadal function: A single center- based study\n",
      "\n",
      "\n",
      "\u001b[1mTitle\u001b[0m\n",
      "SARS-CoV-2 infection does not significantly cause acute renal injury: an analysis of 116 hospitalized patients with COVID-19 in a single hospital, Wuhan, China\n",
      "\n",
      "\n",
      "\u001b[1mTitle\u001b[0m\n",
      "2\n",
      "\n",
      "\n",
      "\u001b[1mTitle\u001b[0m\n",
      "Quantifying the roles of vomiting, diarrhea, and residents vs. staff in\n",
      "\n",
      "\n",
      "\u001b[1mTitle\u001b[0m\n",
      "Full Title: Comparisons of a Novel Air Sampling Filter Material, Wash Buffers and 2 Extraction Methods in the Detection and Quantification of Influenza Virus 3 Short title: Comparisons of Air Sampling Filter Materials for the Detection Quantification 4 of Influenza Virus CPUB-Occup & Environ Hea\n",
      "\n",
      "\n",
      "\u001b[1mTitle\u001b[0m\n",
      "A simple model to assess Wuhan lock-down effect and region efforts during COVID-19 epidemic in China Mainland\n",
      "\n",
      "\n",
      "\u001b[1mTitle\u001b[0m\n",
      "Estimating Spot Prevalence of COVID-19 from Daily Death Data in Italy\n",
      "\n",
      "\n",
      "\u001b[1mTitle\u001b[0m\n",
      "Heat inactivation of serum interferes with the immunoanalysis of antibodies to SARS-CoV-2\n",
      "\n",
      "\n",
      "\u001b[1mTitle\u001b[0m\n",
      "68 Consecutive patients assessed for COVID-19 infection; experience from a UK regional infectious disease unit\n",
      "\n",
      "\n",
      "\u001b[1mTitle\u001b[0m\n",
      "Animal virus ecology and evolution are shaped by the virus host-body\n",
      "\n",
      "\n",
      "\u001b[1mTitle\u001b[0m\n",
      "A comprehensive annotation and differential expression analysis of short and long non-coding RNAs in 16 bat genomes\n",
      "\n",
      "\n",
      "\u001b[1mTitle\u001b[0m\n",
      "Precautions are Needed for COVID-19 Patients with Coinfection of Common Respiratory Pathogens\n",
      "\n",
      "\n",
      "\u001b[1mTitle\u001b[0m\n",
      "Artesunate interacts with Vitamin D receptor to reverse mouse model of sepsis-induced immunosuppression via enhancing autophagy Short running title: Artesunate reverses sepsis induced immunosuppression\n",
      "\n",
      "\n",
      "\u001b[1mTitle\u001b[0m\n",
      "Characterizing the transmission and identifying the control strategy for COVID-19 through epidemiological modeling\n",
      "\n",
      "\n",
      "\u001b[1mTitle\u001b[0m\n",
      "Epidemiology of seasonal coronaviruses: Establishing the context for COVID-19 emergence\n",
      "\n",
      "\n",
      "\u001b[1mTitle\u001b[0m\n",
      "Ultra-Low-Cost Integrated Silicon-based Transducer for On-Site, Genetic Detection of Pathogens\n",
      "\n",
      "\n",
      "\u001b[1mTitle\u001b[0m\n",
      "50-valent inactivated rhinovirus vaccine is broadly immunogenic in rhesus macaques\n",
      "\n",
      "\n",
      "\u001b[1mTitle\u001b[0m\n",
      "Multiplex logic processing isothermal diagnostic assays for an evolving virus\n",
      "\n",
      "\n",
      "\u001b[1mTitle\u001b[0m\n",
      "Therapeutic effects of dipyridamole on COVID-19 patients with 1 coagulation dysfunction\n",
      "\n",
      "\n",
      "\u001b[1mTitle\u001b[0m\n",
      "Study of the mental health status of medical personnel dealing with new coronavirus pneumonia\n",
      "\n",
      "\n",
      "\u001b[1mTitle\u001b[0m\n",
      "Effect of non-pharmaceutical interventions for containing the COVID-19 outbreak in China\n",
      "\n",
      "\n",
      "\u001b[1mTitle\u001b[0m\n",
      "Differential Antibody Recognition by Novel SARS-CoV-2 and SARS-CoV Spike Protein Receptor Binding Domains: Mechanistic Insights and Implications for the Design of Diagnostics and\n",
      "\n",
      "\n",
      "\u001b[1mTitle\u001b[0m\n",
      "SARS-CoV-2 specific antibody responses in COVID-19 patients\n",
      "\n",
      "\n",
      "\u001b[1mTitle\u001b[0m\n",
      "Enabling large-scale genome editing by reducing DNA nicking\n",
      "\n",
      "\n",
      "\u001b[1mTitle\u001b[0m\n",
      "A B\n",
      "\n",
      "\n",
      "\n",
      "\u001b[1mTitle\u001b[0m\n",
      "Reconciling early-outbreak estimates of the basic reproductive number and its uncertainty: framework and applications to the novel coronavirus (SARS-CoV-2) outbreak\n",
      "\n",
      "\n",
      "\n",
      "\u001b[1mTitle\u001b[0m\n",
      "Title: Feasibility of controlling 2019-nCoV outbreaks by isolation of cases and contacts\n",
      "\n",
      "\n",
      "\u001b[1mTitle\u001b[0m\n",
      "A data-driven assessment of early travel restrictions related to the spreading of the novel COVID-19 within mainland China\n",
      "\n",
      "\n",
      "\u001b[1mTitle\u001b[0m\n",
      "Structure-Guided Mutagenesis Alters Deubiquitinating Activity 2 and Attenuates Pathogenesis of a Murine Coronavirus\n",
      "\n",
      "\n",
      "\u001b[1mTitle\u001b[0m\n",
      "Impact of the contact and exclusion rates on the spread of COVID-19 pandemic\n",
      "\n",
      "\n",
      "\u001b[1mTitle\u001b[0m\n",
      "The reproductive number R 0 of COVID-19 based on estimate of a statistical time delay dynamical system\n",
      "\n",
      "\n",
      "\u001b[1mTitle\u001b[0m\n",
      "Combination attenuation offers strategy for live-attenuated coronavirus vaccines 1 2\n",
      "\n",
      "\n",
      "\n",
      "\u001b[1mTitle\u001b[0m\n",
      "Real-time, MinION-based, amplicon sequencing for lineage typing of infectious bronchitis virus from upper respiratory samples\n",
      "\n",
      "\n",
      "\u001b[1mTitle\u001b[0m\n",
      "Estimation of local novel coronavirus (COVID-19) cases in Wuhan, China from off-site reported cases and population flow data from different sources\n",
      "\n",
      "\n",
      "\u001b[1mTitle\u001b[0m\n",
      "How domain growth is implemented determines the long term behaviour of a cell population through its effect on spatial correlations\n",
      "\n",
      "\n",
      "\u001b[1mTitle\u001b[0m\n",
      "Substantial undocumented infection facilitates the rapid dissemination of novel coronavirus (COVID-19)\n",
      "\n",
      "\n",
      "\u001b[1mTitle\u001b[0m\n",
      "More than efficacy revealed by single-cell analysis of antiviral therapeutics\n",
      "\n",
      "\n",
      "\u001b[1mTitle\u001b[0m\n",
      "A transmissible RNA pathway in honey bees\n",
      "\n",
      "\n",
      "\u001b[1mTitle\u001b[0m\n",
      "Mouse hepatitis virus nsp14 exoribonuclease activity is required for\n",
      "\n",
      "\n",
      "\u001b[1mTitle\u001b[0m\n",
      "Highly ACE2 Expression in Pancreas May Cause Pancreas Damage After SARS-CoV-2 Infection\n",
      "\n",
      "\n",
      "\u001b[1mTitle\u001b[0m\n",
      "Title: Viruses are a dominant driver of protein adaptation in mammals\n",
      "\n",
      "\n",
      "\u001b[1mTitle\u001b[0m\n",
      "Transmission and clinical characteristics of coronavirus disease 2019 in 104 outside-Wuhan patients, China\n",
      "\n",
      "\n",
      "\u001b[1mTitle\u001b[0m\n",
      "DEN-IM: Dengue Virus identification from shotgun and targeted metagenomics\n",
      "\n",
      "\n",
      "\u001b[1mTitle\u001b[0m\n",
      "National and Regional Influenza-Like-Illness Forecasts for the USA\n",
      "\n",
      "\n",
      "\u001b[1mTitle\u001b[0m\n",
      "Robitaille et al. 1 DUSP1 regulates apoptosis and cell migration, but not the JIP1-protected cytokine response, during Respiratory Syncytial Virus and Sendai Virus infection\n",
      "\n",
      "\n",
      "\u001b[1mTitle\u001b[0m\n",
      "A comparative multicenter study on the clinical and imaging features of confirmed and unconfirmed patients with COVID19 Authors' names\n",
      "\n",
      "\n",
      "\u001b[1mTitle\u001b[0m\n",
      "Population movement, city closure and spatial transmission of the 2019-nCoV 1 infection in China 2\n",
      "\n",
      "\n",
      "\u001b[1mTitle\u001b[0m\n",
      "Using heterogeneity in the population structure of U.S. swine farms to compare transmission models for porcine epidemic diarrhoea\n",
      "\n",
      "\n",
      "\u001b[1mTitle\u001b[0m\n",
      "Clinical characteristics of 25 death cases with COVID-19: a retrospective review of medical records in a single medical center\n",
      "\n",
      "\n",
      "\u001b[1mTitle\u001b[0m\n",
      "Mutations, Recombination and Insertion in the Evolution of 2019-nCoV\n",
      "\n",
      "\n",
      "\u001b[1mTitle\u001b[0m\n",
      "Sex differences in clinical findings among patients with coronavirus disease 2019 (COVID-19) and severe condition\n",
      "\n",
      "\n",
      "\u001b[1mTitle\u001b[0m\n",
      "MATHEMATICAL PREDICTIONS FOR COVID-19 AS A GLOBAL PANDEMIC\n",
      "\n",
      "\n",
      "\u001b[1mTitle\u001b[0m\n",
      "SKEMPI 2.0: An updated benchmark of changes in protein-protein binding energy, kinetics and thermodynamics upon mutation\n",
      "\n",
      "\n",
      "\u001b[1mTitle\u001b[0m\n",
      "Identification of a Nidovirales Orf1a N7-guanine cap Methyltransferase signature- sequence as a genetic marker of large genome Tobaniviridae Running title: RNA cap N7-guanine Methyltransferase in Tobaniviridae Orf1a\n",
      "\n",
      "\n",
      "\u001b[1mTitle\u001b[0m\n",
      "Article: Discoveries On the causes of evolutionary transition:transversion bias\n",
      "\n",
      "\n",
      "\u001b[1mTitle\u001b[0m\n",
      "The molecular basis for Pompe disease 3 revealed by the structure of human acid α-glucosidase 4 5\n",
      "\n",
      "\n",
      "\u001b[1mTitle\u001b[0m\n",
      "Myocardial injury is associated with in-hospital mortality of confirmed or suspected COVID-19 in Wuhan, China: A single center retrospective cohort study\n",
      "\n",
      "\n",
      "\u001b[1mTitle\u001b[0m\n",
      "Epidemiology and Transmission of COVID-19 in Shenzhen China: Analysis of 391 cases and 1,286 of their close contacts\n",
      "\n",
      "\n",
      "\u001b[1mTitle\u001b[0m\n",
      "Transferrin binding protein B and Transferrin binding protein A 2 expand the transferrin 1 recognition range of Histophilus somni 2 3 Running title: TbpB and TbpA2 broaden specificity of\n",
      "\n",
      "\n",
      "\u001b[1mTitle\u001b[0m\n",
      "Critical Nodes of Virus-Host Interaction Revealed Through an Integrated Network Analysis\n",
      "\n",
      "\n",
      "\u001b[1mTitle\u001b[0m\n",
      "Speed and strength of an epidemic intervention\n",
      "\n",
      "\n",
      "\u001b[1mTitle\u001b[0m\n",
      "The effects of modified sialic acids on mucus and erythrocytes on influenza A virus HA and NA functions\n",
      "\n",
      "\n",
      "\u001b[1mTitle\u001b[0m\n",
      "A high efficient hospital emergency responsive mode is the key of successful treatment of 100 COVID-19 patients in Zhuhai\n",
      "\n",
      "\n",
      "\u001b[1mTitle\u001b[0m\n",
      "D R A F T Inferring transmission trees to guide targeting of interventions against visceral leishmaniasis and post-kala-azar dermal leishmaniasis\n",
      "\n",
      "\n",
      "\u001b[1mTitle\u001b[0m\n",
      "A hidden gene in astroviruses encodes a cell-permeabilizing protein involved in virus release\n",
      "\n",
      "\n",
      "\u001b[1mTitle\u001b[0m\n",
      "Facemask shortage and the coronavirus disease (COVID-19) outbreak: Reflection on public health measures\n",
      "\n",
      "\n",
      "\u001b[1mTitle\u001b[0m\n",
      "Multivariate Analyses of Codon Usage of SARS-CoV-2 and other 1 betacoronaviruses\n",
      "\n",
      "\n",
      "\u001b[1mTitle\u001b[0m\n",
      "Metagenomic Nanopore sequencing of influenza virus 1 direct from clinical respiratory samples 2 3\n",
      "\n",
      "\n",
      "\u001b[1mTitle\u001b[0m\n",
      "Age profile of susceptibility, mixing, and social distancing shape the dynamics of the novel coronavirus disease 2019 outbreak in China\n",
      "\n",
      "\n",
      "\u001b[1mTitle\u001b[0m\n",
      "Rapid metagenomic characterization of a case of imported COVID-19 in Cambodia\n",
      "\n",
      "\n",
      "\u001b[1mTitle\u001b[0m\n",
      "Potential Neutralizing Antibodies Discovered for Novel Corona Virus Using Machine Learning\n",
      "\n",
      "\n",
      "\u001b[1mTitle\u001b[0m\n",
      "Outbound traffic from Wuhan and COVID-19 incidence Temporal relationship between outbound traffic from Wuhan and the 2019 coronavirus disease (COVID-19) incidence in China\n",
      "\n",
      "\n",
      "\u001b[1mTitle\u001b[0m\n",
      "Adaptive Estimation for Epidemic Renewal and Phylogenetic Skyline Models\n",
      "\n",
      "\n",
      "\u001b[1mTitle\u001b[0m\n",
      "TWIRLS, an automated topic-wise inference method based on massive literature, suggests a possible mechanism via ACE2 for the pathological changes in the human host after coronavirus infection\n",
      "\n",
      "\n",
      "\u001b[1mTitle\u001b[0m\n",
      "Epidemiological parameters of coronavirus disease 2019: a pooled analysis of publicly reported individual data of 1155 cases from seven countries Summary Background\n",
      "\n",
      "\n",
      "\u001b[1mTitle\u001b[0m\n",
      "Demographic science aids in understanding the spread and fatality rates of COVID-19\n",
      "\n",
      "\n",
      "\u001b[1mTitle\u001b[0m\n",
      "In trans variant calling reveals enrichment for compound heterozygous variants in genes involved in neuronal development and growth\n",
      "\n",
      "\n",
      "\u001b[1mTitle\u001b[0m\n",
      "Prevalence and clinical features of 2019 novel coronavirus disease (COVID-19) in the Fever Clinic of a teaching hospital in Beijing: a single-center, retrospective study\n",
      "\n",
      "\n",
      "\u001b[1mTitle\u001b[0m\n",
      "Caution: The clinical characteristics of COVID-19 patients at admission are changing\n",
      "\n",
      "\n",
      "\u001b[1mTitle\u001b[0m\n",
      "Rapid Molecular Detection of SARS-CoV-2 (COVID-19) Virus RNA Using Colorimetric LAMP\n",
      "\n",
      "\n",
      "\u001b[1mTitle\u001b[0m\n",
      "Characteristics of patients with COVID-19 during epidemic ongoing outbreak in Wuhan, China\n",
      "\n",
      "\n",
      "\u001b[1mTitle\u001b[0m\n",
      "Emergence of evidence during disease outbreaks: lessons learnt from the Zika virus outbreak\n",
      "\n",
      "\n",
      "\u001b[1mTitle\u001b[0m\n",
      "Modification of primary amines to higher order amines reduces in vivo hematological and immunotoxicity of cationic nanocarriers through TLR4 and complement pathways\n",
      "\n",
      "\n",
      "\u001b[1mTitle\u001b[0m\n",
      "Evaluation of the potential incidence of COVID-19 and effectiveness of contention measures in Spain: a data-driven approach\n",
      "\n",
      "\n",
      "\u001b[1mTitle\u001b[0m\n",
      "Structural and functional conservation of the programmed -1 ribosomal frameshift signal of SARS-CoV-2\n",
      "\n",
      "\n",
      "\u001b[1mTitle\u001b[0m\n",
      "Structure of the chromatin remodelling enzyme Chd1 bound to a ubiquitinylated nucleosome\n",
      "\n",
      "\n",
      "\u001b[1mTitle\u001b[0m\n",
      "High incidence of asymptomatic SARS-CoV-2 infection, Chongqing, China\n",
      "\n",
      "\n",
      "\n",
      "\u001b[1mTitle\u001b[0m\n",
      "Strategies for vaccine design for corona virus using Immunoinformatics techniques\n",
      "\n",
      "\n"
     ]
    }
   ],
   "source": [
    "#By method titles(), abstracts() and bodies() you can access to certain elements of the paper\n",
    "paper_abstracts = parser.titles()\n",
    "for abstract in paper_abstracts[Dataset.BIORXIV].values():\n",
    "    print(abstract)"
   ]
  },
  {
   "cell_type": "markdown",
   "metadata": {},
   "source": [
    "# Word2Vec demonstration"
   ]
  },
  {
   "cell_type": "code",
   "execution_count": 26,
   "metadata": {},
   "outputs": [],
   "source": [
    "#User manual\n",
    "#----------------------------------\n",
    "#Install --> pip3 install gensim (apart from gensim, you will need numpy)\n",
    "#Download word2vec file -->  https://code.google.com/archive/p/word2vec/\n",
    "import gensim.models.keyedvectors as word2vec"
   ]
  },
  {
   "cell_type": "code",
   "execution_count": 27,
   "metadata": {},
   "outputs": [],
   "source": [
    "#Here we initialize word2vec with already pretrained vectors\n",
    "word2vec = word2vec.KeyedVectors.load_word2vec_format('data/GoogleNews-vectors-negative300.bin', binary=True)"
   ]
  },
  {
   "cell_type": "code",
   "execution_count": 24,
   "metadata": {},
   "outputs": [
    {
     "data": {
      "text/plain": [
       "[('corona_virus', 0.7276226282119751),\n",
       " ('coronaviruses', 0.7216538190841675),\n",
       " ('paramyxovirus', 0.7113003730773926),\n",
       " ('SARS_coronavirus', 0.6601907014846802),\n",
       " ('arenavirus', 0.6494410037994385),\n",
       " ('influenza_virus', 0.6449826955795288),\n",
       " ('H#N#_subtype', 0.6360139846801758),\n",
       " ('H#N#_strain', 0.6324741840362549),\n",
       " ('H7_virus', 0.6261191964149475),\n",
       " ('flu_virus', 0.6249204874038696)]"
      ]
     },
     "execution_count": 24,
     "metadata": {},
     "output_type": "execute_result"
    }
   ],
   "source": [
    "#As you can see, coronavirus is extremely similar with other virus terms \n",
    "word2vec.most_similar(\"coronavirus\")"
   ]
  },
  {
   "cell_type": "code",
   "execution_count": 25,
   "metadata": {},
   "outputs": [
    {
     "data": {
      "text/plain": [
       "array([-0.11914062,  0.0189209 , -0.02648926,  0.22460938, -0.17089844,\n",
       "        0.4609375 ,  0.38867188, -0.19921875,  0.15429688, -0.00180054,\n",
       "       -0.10693359, -0.26757812, -0.17089844,  0.17382812, -0.06982422,\n",
       "        0.38085938,  0.10253906,  0.1171875 ,  0.14453125,  0.01409912,\n",
       "        0.32226562,  0.45703125,  0.25976562,  0.06738281, -0.28515625,\n",
       "        0.21289062, -0.20996094,  0.04418945, -0.14746094,  0.04296875,\n",
       "       -0.22167969, -0.24707031, -0.24121094, -0.13574219, -0.15234375,\n",
       "        0.02502441, -0.08203125, -0.328125  ,  0.44921875, -0.12988281,\n",
       "        0.24414062,  0.01489258, -0.33203125, -0.14453125, -0.24023438,\n",
       "       -0.11035156, -0.0300293 ,  0.06152344, -0.15917969, -0.12890625,\n",
       "        0.02832031,  0.40039062, -0.046875  , -0.3203125 ,  0.09765625,\n",
       "       -0.0859375 , -0.1171875 , -0.32421875, -0.0390625 , -0.09814453,\n",
       "        0.41210938,  0.09765625,  0.19042969,  0.0859375 , -0.03710938,\n",
       "        0.05688477,  0.05883789,  0.06640625,  0.0703125 ,  0.20214844,\n",
       "        0.08007812,  0.05932617,  0.09228516,  0.00405884, -0.01660156,\n",
       "       -0.09033203, -0.06445312, -0.13574219, -0.07373047,  0.17480469,\n",
       "       -0.06933594, -0.16015625, -0.00622559, -0.13183594,  0.08203125,\n",
       "        0.24023438, -0.03637695,  0.23242188,  0.11230469, -0.140625  ,\n",
       "        0.19335938, -0.11962891,  0.25      , -0.19824219,  0.04858398,\n",
       "       -0.08886719,  0.3046875 , -0.05932617,  0.10009766,  0.19433594,\n",
       "       -0.125     ,  0.07275391,  0.2421875 , -0.16308594,  0.02709961,\n",
       "       -0.18652344, -0.1484375 , -0.28320312,  0.40429688, -0.21679688,\n",
       "        0.00173187, -0.07324219, -0.01794434,  0.25976562,  0.19824219,\n",
       "       -0.02722168, -0.15917969, -0.24609375, -0.23730469,  0.16601562,\n",
       "       -0.12158203,  0.13085938, -0.19628906, -0.5078125 , -0.01190186,\n",
       "       -0.27148438,  0.2734375 ,  0.22265625,  0.13476562,  0.08349609,\n",
       "        0.12792969, -0.26757812,  0.0378418 , -0.04418945, -0.15527344,\n",
       "       -0.15136719,  0.09179688,  0.06103516,  0.49023438,  0.4140625 ,\n",
       "        0.06982422, -0.28125   ,  0.05126953,  0.20507812,  0.06933594,\n",
       "       -0.234375  , -0.43945312, -0.27734375, -0.1484375 , -0.15625   ,\n",
       "        0.06884766, -0.31835938, -0.24902344,  0.12451172,  0.11767578,\n",
       "        0.15722656, -0.17871094, -0.18652344, -0.33203125, -0.18066406,\n",
       "        0.41210938, -0.01165771,  0.00708008, -0.07226562,  0.02685547,\n",
       "       -0.47265625, -0.26171875, -0.04125977, -0.06396484,  0.05200195,\n",
       "        0.26171875,  0.21972656, -0.28320312, -0.15722656,  0.16699219,\n",
       "       -0.12451172,  0.0378418 , -0.19335938,  0.21191406, -0.00540161,\n",
       "       -0.01153564, -0.296875  ,  0.32617188,  0.00415039, -0.04931641,\n",
       "       -0.08984375,  0.14453125, -0.08984375,  0.1953125 ,  0.05712891,\n",
       "       -0.20019531,  0.23925781, -0.05639648,  0.09472656, -0.35546875,\n",
       "        0.43164062,  0.02929688, -0.1328125 , -0.16503906, -0.23925781,\n",
       "       -0.16113281,  0.10742188, -0.08935547,  0.22753906,  0.08642578,\n",
       "        0.08007812, -0.27539062,  0.09423828,  0.10644531, -0.140625  ,\n",
       "       -0.31054688, -0.03564453, -0.24414062, -0.12255859,  0.06079102,\n",
       "       -0.10546875,  0.21679688, -0.2578125 , -0.06445312,  0.07519531,\n",
       "       -0.21289062,  0.07666016,  0.39453125,  0.203125  ,  0.0480957 ,\n",
       "        0.3828125 , -0.08105469, -0.34960938, -0.265625  ,  0.328125  ,\n",
       "        0.12597656,  0.18066406, -0.00714111,  0.06640625, -0.08837891,\n",
       "        0.15234375, -0.27148438, -0.04077148,  0.27734375,  0.06445312,\n",
       "        0.24023438, -0.140625  , -0.07763672,  0.04541016,  0.16894531,\n",
       "        0.23925781,  0.01324463,  0.03149414,  0.01721191, -0.171875  ,\n",
       "        0.13085938, -0.06591797,  0.265625  ,  0.03833008,  0.07470703,\n",
       "       -0.09667969, -0.13085938, -0.05273438,  0.04150391, -0.15234375,\n",
       "        0.04077148, -0.02697754, -0.06835938, -0.10644531,  0.06445312,\n",
       "       -0.12109375,  0.15039062, -0.20019531, -0.14746094, -0.18945312,\n",
       "        0.1015625 ,  0.10058594,  0.2421875 , -0.2109375 ,  0.11035156,\n",
       "        0.11865234, -0.34570312,  0.02258301,  0.03125   , -0.21386719,\n",
       "        0.17382812, -0.07470703,  0.12890625,  0.01538086,  0.00793457,\n",
       "       -0.08398438,  0.04174805, -0.04956055,  0.1484375 , -0.06176758,\n",
       "        0.08398438, -0.0859375 , -0.26171875,  0.30273438,  0.12304688,\n",
       "        0.30859375, -0.27929688,  0.17285156,  0.19433594,  0.11132812],\n",
       "      dtype=float32)"
      ]
     },
     "execution_count": 25,
     "metadata": {},
     "output_type": "execute_result"
    }
   ],
   "source": [
    "#So word2vec is basically a dict, where for word it returns us a 300 dimensional vector. The more the words are similiar\n",
    "#so are the vectors going to be similar (talking here about cosine similarity!).\n",
    "word2vec[\"cure\"]"
   ]
  },
  {
   "cell_type": "markdown",
   "metadata": {},
   "source": [
    "# Doc2Vec demonstration"
   ]
  },
  {
   "cell_type": "markdown",
   "metadata": {},
   "source": [
    "### So, now we are heading into the big guns! Doc2Vec is basically word2vec, but only for words that are appearing in our dataset. Meaning that words like Coronavirus, Covid19, Wuhan and other important phrases will be recognized here by our model. In contrast, word2vec couldn't recognize covid19, because that's new term for this disease."
   ]
  },
  {
   "cell_type": "code",
   "execution_count": 36,
   "metadata": {},
   "outputs": [],
   "source": [
    "from gensim.models.doc2vec import Doc2Vec, TaggedDocument\n",
    "from nltk.tokenize import word_tokenize"
   ]
  },
  {
   "cell_type": "markdown",
   "metadata": {},
   "source": [
    "#### Here we are basically making our own dataset. We are taking our own papers ( parser.toList() will return all papers in dataset) and tagging them."
   ]
  },
  {
   "cell_type": "code",
   "execution_count": 37,
   "metadata": {},
   "outputs": [],
   "source": [
    "tagged_data = [TaggedDocument(words=word_tokenize(_d.lower()), tags=[str(i)]) for i, _d in enumerate(parser.toList())]"
   ]
  },
  {
   "cell_type": "markdown",
   "metadata": {},
   "source": [
    "#### This is the training part. Here we are making our own word embeddings. That means we are basically going to make our own word2vec. In other words, for every word from our dataset our model will make a vector in 20 dimensional space. Furthermore, every vectors will be similar if the words they are representing are similar. E.g. vectors for word coronavirus and covid19 will be similar."
   ]
  },
  {
   "cell_type": "code",
   "execution_count": 45,
   "metadata": {},
   "outputs": [
    {
     "name": "stderr",
     "output_type": "stream",
     "text": [
      "/usr/local/lib/python3.7/site-packages/ipykernel_launcher.py:15: DeprecationWarning: Call to deprecated `iter` (Attribute will be removed in 4.0.0, use self.epochs instead).\n",
      "  from ipykernel import kernelapp as app\n"
     ]
    },
    {
     "name": "stdout",
     "output_type": "stream",
     "text": [
      "Done.\n"
     ]
    }
   ],
   "source": [
    "max_epochs = 120\n",
    "vec_size = 20 #word2vec has 300, but I left 100 here\n",
    "alpha = 0.025\n",
    "\n",
    "model = Doc2Vec(vector_size=vec_size,\n",
    "                alpha=alpha, \n",
    "                min_alpha=0.00025,\n",
    "                min_count=1,\n",
    "                dm =1)\n",
    "\n",
    "model.build_vocab(tagged_data)\n",
    "\n",
    "for epoch in range(max_epochs):\n",
    "    #print('iteration {0}'.format(epoch))\n",
    "    model.train(tagged_data,total_examples=model.corpus_count,epochs=model.iter)\n",
    "    # decrease the learning rate\n",
    "    model.alpha -= 0.0002\n",
    "    # fix the learning rate, no decay\n",
    "    model.min_alpha = model.alpha\n",
    "print(\"Done.\")"
   ]
  },
  {
   "cell_type": "markdown",
   "metadata": {},
   "source": [
    "#### Here we are testing our word embeddings with some query. Our query will be \"Coronavirus transmission\" and we are hoping to  find all the documents that are talking about coronavirus transmission. "
   ]
  },
  {
   "cell_type": "code",
   "execution_count": 46,
   "metadata": {},
   "outputs": [],
   "source": [
    "test_data = word_tokenize(\"Coronavirus transmission\".lower()) #change this query to test different things \n",
    "v1 = model.infer_vector(test_data)"
   ]
  },
  {
   "cell_type": "markdown",
   "metadata": {},
   "source": [
    "#### Here we are finding the embeddings that will correnspond with our query. Function most_similar() will return us id and percentage of similarity with corrensponding query. E.g. ('43', 0.834 ) means that document with id 43 is 83% similar with query. ( although this isn't really percentage, this is similarity, but thats the gist :) )"
   ]
  },
  {
   "cell_type": "code",
   "execution_count": 47,
   "metadata": {},
   "outputs": [
    {
     "name": "stdout",
     "output_type": "stream",
     "text": [
      "[('57', 0.5976769924163818), ('82', 0.5365582704544067), ('13', 0.5226129293441772), ('44', 0.476043164730072), ('60', 0.46594515442848206), ('58', 0.4617353081703186), ('46', 0.44316622614860535), ('76', 0.41599059104919434), ('37', 0.4150567650794983), ('80', 0.4132328927516937)]\n"
     ]
    }
   ],
   "source": [
    "#finding the most similar doc\n",
    "similar_doc = model.docvecs.most_similar([v1])\n",
    "print(similar_doc)"
   ]
  },
  {
   "cell_type": "markdown",
   "metadata": {},
   "source": [
    "### This is the most similar document with our query within our dataset of 100 papers."
   ]
  },
  {
   "cell_type": "code",
   "execution_count": 49,
   "metadata": {},
   "outputs": [
    {
     "name": "stdout",
     "output_type": "stream",
     "text": [
      "Population movement, city closure and spatial transmission of the 2019-nCoV 1 infection in China 2The outbreak of pneumonia caused by a novel coronavirus (2019-nCoV) in Wuhan 17City of China obtained global concern, the population outflow from Wuhan has 18 contributed to spatial expansion in other parts of China. We examined the effects of 19 population outflow from Wuhan on the 2019-nCoV transmission in other provinces 20 and cities of China, as well as the impacts of the city closure in Wuhan. We observed 21 a significantly positive association between population movement and the number of 22 cases. Further analysis revealed that if the city closure policy was implemented two 23 days earlier, 1420 (95% CI: 1059, 1833) cases could be prevented, and if two days 24 later, 1462 (95% CI: 1090, 1886) more cases would be possible. Our findings suggest 25 that population movement might be one important trigger of the 2019-nCoV infection 26 transmission in China, and the policy of city closure is effective to prevent the 27 epidemic. 28In December 2019, a series of pneumonia cases caused by a novel coronavirus, 33 namely 2019-nCoV, emerged in Wuhan, the capital city of Hubei Province in China 34(1), Similar with severe acute respiratory syndrome (SARS), the Wuhan pneumonia 35 outbreak was highly suspected to be linked to the wild animals in the seafood market, 36 although the definitive source of this virus was not clear yet (2). 37 . CC-BY-NC-ND 4.0 International license It is made available under a author/funder, who has granted medRxiv a license to display the preprint in perpetuity.is the (which was not peer-reviewed) The copyright holder for this preprint . https://doi.org/10.1101/2020.02.04.20020339 doi: medRxiv preprint As of Jan 31, 2020, the infection has been transmitted to all the provinces in China 38 and a few other countries. Epidemiology evidence shown that most of the cases had a 39 history of living or travelling to Wuhan, the household cluster cases and cases of 40 health-care workers indicated the human-to-human transmission route (3), which 41 might be the reason for a rapid increasing rate of infection across the country and 42 globally (4). 43Considering the person-to-person transmission and the large travel volume during 44 the traditional Chinese New Year (the largest annual population movement in the 45 world), it is expected that the population movement would lead to further expansion 46 of the infection, so the government imposed a lockdown on Wuhan City at 10:00 am 47 on January 23, as well as some other cities later on. However, an estimated 5 million 48 individuals had already left Wuhan for the holiday or travelling, some of which rushed 49 out after the lockdown announcement (5). In addition, the novel coronavirus is 50 infectious during the incubation period and when the symptoms are not obvious, 51 which is likely to make the huge floating population potential sources of infection (6). 52 Therefore, it is reasonable to hypothesize that the population transported from Wuhan 53 may have a significant impact on the potential outbreaks in other parts of China. 54 Recent studies on the novel coronavirus pneumonia focused more on its etiology (7, 55 8), transmission route (9, 10), and epidemiological characteristics (11, 12), there is 56 still a lack of investigating the relationship between the migrating population and the 57 outbreak, which is of great importance for making intervention policies. Thus, we 58 conducted this study with the following objectives: 1) to depict the impacts of the 59 . CC-BY-NC-ND 4.0 International license It is made available under a author/funder, who has granted medRxiv a license to display the preprint in perpetuity.is the (which was not peer-reviewed) The copyright holder for this preprint As the city closure took place at 10:00 AM Jan 23 rd , 2020, and the incubation period 76 of the infection was estimated to be about 3-7 days (15), we obtained the daily index 77 of population outflow from Wuhan and the proportion of the daily index from Wuhan 78 to other provinces and top 50 cities, from January 1 to 31 in 2020, the information 79 was retrieved through the Spring Festival travel information of China released by 80 Baidu Qianxi. The data is consisted of Baidu Location Based Services (LBS) and 81 . CC-BY-NC-ND 4.0 International license It is made available under a author/funder, who has granted medRxiv a license to display the preprint in perpetuity.is the (which was not peer-reviewed) The copyright holder for this preprint . https://doi.org/10.1101/2020.02.04.20020339 doi: medRxiv preprint which be display dynamic visual regional population outflow in real-time. Data of 83Baidu Qianxi was freely available to the public (http://qianxi.baidu.com). author/funder, who has granted medRxiv a license to display the preprint in perpetuity.is the (which was not peer-reviewed) The copyright holder for this preprint . https://doi.org/10.1101/2020.02.04.20020339 doi: medRxiv preprintAfter the city closure was taken in force, some population still outflowed from Wuhan. 105We subtracted the outflow index on Jan 23 from the average outflow index from Jan 106 24 to 31, to obtain the index of outflow population within Wuhan reduced by the 107 advance city closure on Jan 23 and 22 (the advance outflow index). And then we 108 calculated the average proportion of the outflow index from Jan 24 to 31 for each 109 province (the average proportion). The number of cases reduced by the advance city 110 closure in each province was estimated by multiplied the advance outflow index by 111 the average proportion and one corresponding unit. The formula can be specified as: 112The reduced index of outflow population: The net loss index of outflow population caused by advance Wuhan city closure for 124 each province: 125The total reduced number of 2019-nCoV cases: 127Similarly, we evaluated the impacts of one-day and two-day delayed city closure. We 129 took the average index of the population outflow between Jan 21 and 23 as the daily 130 index of population outflow before the city closure, and used the same calculation 131 method to estimate the index of population outflow within Wuhan increased by the 132 delayed city closure on Jan 24 and Jan 25 (the delayed outflow index). We multiplied 133 the delayed outflow index by the average proportion and one corresponding unit to 134 estimate the increased number of cases caused by one-day and two-day delayed city 135 closure in each province. Our study provided timely evidence for the formulation of efficient strategies to 253 prevent diseases from spreading out. On the one hand, the result could help assess 254 effectiveness of the prevention and control efforts. For example, the cases in Zhejiang 255 and Guangdong are apparently more than estimated, which indicated a better health 256 emergency response system (i.e. higher detection efficiency) or inadequate isolation. 257Whereas the cases reported in Henan were much lower than expected. Two possible 258 . CC-BY-NC-ND 4.0 International license It is made available under a author/funder, who has granted medRxiv a license to display the preprint in perpetuity. CC-BY-NC-ND 4.0 International license It is made available under a author/funder, who has granted medRxiv a license to display the preprint in perpetuity.is the (which was not peer-reviewed) The copyright holder for this preprint . https://doi.org/10.1101/2020.02.04.20020339 doi: medRxiv preprint play an important role in slowing the epidemic spread, especially when an effective 281 vaccine was developed (26, 27). In addition, to explore the impact of date selection, 282we estimated the changes of cases when the measure was implemented on different 283 date. The results varied significantly, 1420 cases could be prevented with the measure 284 implemented two days earlier, and the number of cases will increase by 1462 with the 285 lockdown implemented two days later, suggesting that the effect of the lockdown 286 depending on the choice of date greatly, which could provide a reference for the 287 future outbreaks. Since the political and economic effects were not considered, further 288 studies on secondary impacts of the measure, like socioeconomic impacts, were also 289 warranted. Though we estimated that some cases would possibly be prevented if the 290 policy was implemented earlier, it was actually hard to make such a huge decision 291given the whole picture of the infection was not clear at that stage. The authors 292 believe that the current policy was appropriate at this complex situation. 293There were a few limitations of our study. Firstly, for practical reasons, we used 294 an indicator to reflect the real-time magnitude of population movements, which was 295 acceptable considering our research purpose. Secondly, the influence of some 296 important factors, such as socioeconomic and demographic characteristics, were not 297 considered. Thirdly, it is assumed that the infected travelers in the population are 298 randomly distributed (28), and that there was no significant difference in surveillance 299 capability between cities (18), which might not be the case in reality. In addition, 300 daily data used in this study was reported infection data, rather than the actual number 301 of incident cases. More detailed and further in-depth studies are warranted in the 302 . CC-BY-NC-ND 4.0 International license It is made available under a author/funder, who has granted medRxiv a license to display the preprint in perpetuity.is the (which was not peer-reviewed) The copyright holder for this preprint . https://doi.org/10.1101/2020.02.04.20020339 doi: medRxiv preprint future. 303In conclusion, our study indicates that the population outflow from Wuhan might 304 be one important trigger of the 2019-nCoV infection transmission in China, and the 305 policy of city closure is effective to prevent the epidemic and earlier implementation 306 would be more effective. The magnitude of epidemic might be under-estimated and 307 should be paid more attention, such as Henan and Hunan provinces. 308 309\n"
     ]
    }
   ],
   "source": [
    "#print(tagged_data[33])\n",
    "print(parser.toList()[57])"
   ]
  },
  {
   "cell_type": "code",
   "execution_count": null,
   "metadata": {},
   "outputs": [],
   "source": []
  }
 ],
 "metadata": {
  "kernelspec": {
   "display_name": "Python 3",
   "language": "python",
   "name": "python3"
  },
  "language_info": {
   "codemirror_mode": {
    "name": "ipython",
    "version": 3
   },
   "file_extension": ".py",
   "mimetype": "text/x-python",
   "name": "python",
   "nbconvert_exporter": "python",
   "pygments_lexer": "ipython3",
   "version": "3.7.3"
  }
 },
 "nbformat": 4,
 "nbformat_minor": 2
}
